{
 "cells": [
  {
   "cell_type": "code",
   "execution_count": 3,
   "metadata": {},
   "outputs": [],
   "source": [
    "from os import walk\n",
    "path= './'\n",
    "_, _, filenames = next(walk(path))\n"
   ]
  },
  {
   "cell_type": "code",
   "execution_count": 5,
   "metadata": {},
   "outputs": [],
   "source": [
    "image= [ '<img src=\"./src/skill-logo/'+ i +'\" class=\"header-skill-logo-img loop2nd-img\" alt=\"\">' for i in filenames]"
   ]
  },
  {
   "cell_type": "code",
   "execution_count": null,
   "metadata": {},
   "outputs": [],
   "source": []
  },
  {
   "cell_type": "code",
   "execution_count": 13,
   "metadata": {},
   "outputs": [
    {
     "name": "stdout",
     "output_type": "stream",
     "text": [
      "<img src=\"./src/skill-logo/Adobe-illustrator.png\" class=\"header-skill-logo-img loop1st-img\" alt=\"\">\n",
      "<img src=\"./src/skill-logo/anaconda.png\" class=\"header-skill-logo-img loop1st-img\" alt=\"\">\n",
      "<img src=\"./src/skill-logo/C-Sharp.png\" class=\"header-skill-logo-img loop1st-img\" alt=\"\">\n",
      "<img src=\"./src/skill-logo/cplus.png\" class=\"header-skill-logo-img loop1st-img\" alt=\"\">\n",
      "<img src=\"./src/skill-logo/CSS.png\" class=\"header-skill-logo-img loop1st-img\" alt=\"\">\n",
      "<img src=\"./src/skill-logo/github.png\" class=\"header-skill-logo-img loop1st-img\" alt=\"\">\n",
      "<img src=\"./src/skill-logo/HTML.png\" class=\"header-skill-logo-img loop1st-img\" alt=\"\">\n",
      "<img src=\"./src/skill-logo/JavaScript.png\" class=\"header-skill-logo-img loop1st-img\" alt=\"\">\n",
      "<img src=\"./src/skill-logo/keras.jpg\" class=\"header-skill-logo-img loop1st-img\" alt=\"\">\n",
      "<img src=\"./src/skill-logo/knx.jpg\" class=\"header-skill-logo-img loop2nd-img\" alt=\"\">\n",
      "<img src=\"./src/skill-logo/nvidiacuda.png\" class=\"header-skill-logo-img loop2nd-img\" alt=\"\">\n",
      "<img src=\"./src/skill-logo/plotly.png\" class=\"header-skill-logo-img loop2nd-img\" alt=\"\">\n",
      "<img src=\"./src/skill-logo/python.png\" class=\"header-skill-logo-img loop2nd-img\" alt=\"\">\n",
      "<img src=\"./src/skill-logo/react.png\" class=\"header-skill-logo-img loop2nd-img\" alt=\"\">\n",
      "<img src=\"./src/skill-logo/sass.jpg\" class=\"header-skill-logo-img loop2nd-img\" alt=\"\">\n",
      "<img src=\"./src/skill-logo/sketchup.jpg\" class=\"header-skill-logo-img loop2nd-img\" alt=\"\">\n",
      "<img src=\"./src/skill-logo/solidworks.png\" class=\"header-skill-logo-img loop2nd-img\" alt=\"\">\n",
      "<img src=\"./src/skill-logo/tensorflow.png\" class=\"header-skill-logo-img loop2nd-img\" alt=\"\">\n",
      "<img src=\"./src/skill-logo/ubuntu.jpg\" class=\"header-skill-logo-img loop2nd-img\" alt=\"\">\n"
     ]
    }
   ],
   "source": [
    "le = len(image)\n",
    "update =[]\n",
    "for i,m in enumerate( filenames):\n",
    "    if i<le/2:\n",
    "       update.append('<img src=\"./src/skill-logo/'+ m +'\" class=\"header-skill-logo-img loop1st-img\"  alt=\"\">' )\n",
    "    else:\n",
    "        update.append('<img src=\"./src/skill-logo/'+ m +'\" class=\"header-skill-logo-img loop2nd-img\" alt=\"\">' )\n",
    "for item in update:\n",
    "    if 'ipynb' not in item:\n",
    "        print(item)\n",
    "    \n"
   ]
  },
  {
   "cell_type": "code",
   "execution_count": null,
   "metadata": {},
   "outputs": [],
   "source": []
  }
 ],
 "metadata": {
  "kernelspec": {
   "display_name": "Python 3",
   "language": "python",
   "name": "python3"
  },
  "language_info": {
   "codemirror_mode": {
    "name": "ipython",
    "version": 3
   },
   "file_extension": ".py",
   "mimetype": "text/x-python",
   "name": "python",
   "nbconvert_exporter": "python",
   "pygments_lexer": "ipython3",
   "version": "3.8.5"
  }
 },
 "nbformat": 4,
 "nbformat_minor": 4
}
