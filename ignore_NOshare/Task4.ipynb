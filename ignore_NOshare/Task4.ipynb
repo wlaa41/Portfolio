{
 "cells": [
  {
   "cell_type": "code",
   "execution_count": 1,
   "metadata": {},
   "outputs": [
    {
     "ename": "ModuleNotFoundError",
     "evalue": "No module named 'tensorflow'",
     "output_type": "error",
     "traceback": [
      "\u001b[1;31m---------------------------------------------------------------------------\u001b[0m",
      "\u001b[1;31mModuleNotFoundError\u001b[0m                       Traceback (most recent call last)",
      "\u001b[1;32m<ipython-input-1-2acf5319ccae>\u001b[0m in \u001b[0;36m<module>\u001b[1;34m\u001b[0m\n\u001b[1;32m----> 1\u001b[1;33m \u001b[1;32mimport\u001b[0m \u001b[0mtensorflow\u001b[0m \u001b[1;32mas\u001b[0m \u001b[0mts\u001b[0m\u001b[1;33m\u001b[0m\u001b[1;33m\u001b[0m\u001b[0m\n\u001b[0m",
      "\u001b[1;31mModuleNotFoundError\u001b[0m: No module named 'tensorflow'"
     ]
    }
   ],
   "source": [
    "import tensorflow as ts"
   ]
  },
  {
   "cell_type": "markdown",
   "metadata": {},
   "source": [
    "import tensorflow as ts"
   ]
  },
  {
   "cell_type": "code",
   "execution_count": 3,
   "metadata": {},
   "outputs": [
    {
     "name": "stdout",
     "output_type": "stream",
     "text": [
      "Requirement already satisfied: numpy in c:\\users\\acer pc\\appdata\\local\\programs\\python\\python39\\lib\\site-packages (1.20.2)\n"
     ]
    }
   ],
   "source": [
    "!pip install numpy"
   ]
  },
  {
   "cell_type": "code",
   "execution_count": 4,
   "metadata": {},
   "outputs": [
    {
     "ename": "ModuleNotFoundError",
     "evalue": "No module named 'numpy'",
     "output_type": "error",
     "traceback": [
      "\u001b[1;31m---------------------------------------------------------------------------\u001b[0m",
      "\u001b[1;31mModuleNotFoundError\u001b[0m                       Traceback (most recent call last)",
      "\u001b[1;32m<ipython-input-4-0aa0b027fcb6>\u001b[0m in \u001b[0;36m<module>\u001b[1;34m\u001b[0m\n\u001b[1;32m----> 1\u001b[1;33m \u001b[1;32mimport\u001b[0m \u001b[0mnumpy\u001b[0m \u001b[1;32mas\u001b[0m \u001b[0mnp\u001b[0m\u001b[1;33m\u001b[0m\u001b[1;33m\u001b[0m\u001b[0m\n\u001b[0m",
      "\u001b[1;31mModuleNotFoundError\u001b[0m: No module named 'numpy'"
     ]
    }
   ],
   "source": [
    "import c:\\users\\user\\appdata\\local\\programs\\python\\python39\\lib\\site-packages\\numpy as np"
   ]
  },
  {
   "cell_type": "code",
   "execution_count": 1,
   "metadata": {},
   "outputs": [
    {
     "name": "stdout",
     "output_type": "stream",
     "text": [
      "Requirement already satisfied: plotly in c:\\users\\user\\appdata\\local\\programs\\python\\python39\\lib\\site-packages (4.14.3)\n",
      "Requirement already satisfied: six in c:\\users\\user\\appdata\\local\\programs\\python\\python39\\lib\\site-packages (from plotly) (1.16.0)\n",
      "Requirement already satisfied: retrying>=1.3.3 in c:\\users\\user\\appdata\\local\\programs\\python\\python39\\lib\\site-packages (from plotly) (1.3.3)\n"
     ]
    },
    {
     "name": "stderr",
     "output_type": "stream",
     "text": [
      "WARNING: You are using pip version 21.1.1; however, version 21.1.3 is available.\n",
      "You should consider upgrading via the 'c:\\users\\user\\appdata\\local\\programs\\python\\python39\\python.exe -m pip install --upgrade pip' command.\n"
     ]
    }
   ],
   "source": [
    "!pip install plotly\n"
   ]
  },
  {
   "cell_type": "code",
   "execution_count": 2,
   "metadata": {},
   "outputs": [
    {
     "name": "stdout",
     "output_type": "stream",
     "text": [
      "Requirement already satisfied: sympy in c:\\users\\user\\appdata\\local\\programs\\python\\python39\\lib\\site-packages (1.8)\n",
      "Requirement already satisfied: mpmath>=0.19 in c:\\users\\user\\appdata\\local\\programs\\python\\python39\\lib\\site-packages (from sympy) (1.2.1)\n"
     ]
    },
    {
     "name": "stderr",
     "output_type": "stream",
     "text": [
      "WARNING: You are using pip version 21.1.1; however, version 21.1.3 is available.\n",
      "You should consider upgrading via the 'c:\\users\\user\\appdata\\local\\programs\\python\\python39\\python.exe -m pip install --upgrade pip' command.\n"
     ]
    }
   ],
   "source": [
    "!pip install sympy\n"
   ]
  },
  {
   "cell_type": "code",
   "execution_count": 3,
   "metadata": {},
   "outputs": [
    {
     "name": "stdout",
     "output_type": "stream",
     "text": [
      "Requirement already satisfied: scipy in c:\\users\\user\\appdata\\local\\programs\\python\\python39\\lib\\site-packages (1.6.3)\n",
      "Requirement already satisfied: numpy<1.23.0,>=1.16.5 in c:\\users\\user\\appdata\\local\\programs\\python\\python39\\lib\\site-packages (from scipy) (1.20.2)\n"
     ]
    },
    {
     "name": "stderr",
     "output_type": "stream",
     "text": [
      "WARNING: You are using pip version 21.1.1; however, version 21.1.3 is available.\n",
      "You should consider upgrading via the 'c:\\users\\user\\appdata\\local\\programs\\python\\python39\\python.exe -m pip install --upgrade pip' command.\n"
     ]
    }
   ],
   "source": [
    "!pip install scipy\n"
   ]
  },
  {
   "cell_type": "code",
   "execution_count": 4,
   "metadata": {},
   "outputs": [
    {
     "name": "stdout",
     "output_type": "stream",
     "text": [
      "Requirement already satisfied: pandas in c:\\users\\user\\appdata\\local\\programs\\python\\python39\\lib\\site-packages (1.2.4)\n",
      "Requirement already satisfied: numpy>=1.16.5 in c:\\users\\user\\appdata\\local\\programs\\python\\python39\\lib\\site-packages (from pandas) (1.20.2)\n",
      "Requirement already satisfied: pytz>=2017.3 in c:\\users\\user\\appdata\\local\\programs\\python\\python39\\lib\\site-packages (from pandas) (2021.1)\n",
      "Requirement already satisfied: python-dateutil>=2.7.3 in c:\\users\\user\\appdata\\local\\programs\\python\\python39\\lib\\site-packages (from pandas) (2.8.1)\n",
      "Requirement already satisfied: six>=1.5 in c:\\users\\user\\appdata\\local\\programs\\python\\python39\\lib\\site-packages (from python-dateutil>=2.7.3->pandas) (1.16.0)\n"
     ]
    },
    {
     "name": "stderr",
     "output_type": "stream",
     "text": [
      "WARNING: You are using pip version 21.1.1; however, version 21.1.3 is available.\n",
      "You should consider upgrading via the 'c:\\users\\user\\appdata\\local\\programs\\python\\python39\\python.exe -m pip install --upgrade pip' command.\n"
     ]
    }
   ],
   "source": [
    "!pip install pandas"
   ]
  },
  {
   "cell_type": "code",
   "execution_count": 5,
   "metadata": {},
   "outputs": [
    {
     "name": "stdout",
     "output_type": "stream",
     "text": [
      "Requirement already satisfied: plotly_express in c:\\users\\user\\appdata\\local\\programs\\python\\python39\\lib\\site-packages (0.4.1)\n",
      "Requirement already satisfied: statsmodels>=0.9.0 in c:\\users\\user\\appdata\\local\\programs\\python\\python39\\lib\\site-packages (from plotly_express) (0.12.2)\n",
      "Requirement already satisfied: pandas>=0.20.0 in c:\\users\\user\\appdata\\local\\programs\\python\\python39\\lib\\site-packages (from plotly_express) (1.2.4)\n",
      "Requirement already satisfied: patsy>=0.5 in c:\\users\\user\\appdata\\local\\programs\\python\\python39\\lib\\site-packages (from plotly_express) (0.5.1)\n",
      "Requirement already satisfied: numpy>=1.11 in c:\\users\\user\\appdata\\local\\programs\\python\\python39\\lib\\site-packages (from plotly_express) (1.20.2)\n",
      "Requirement already satisfied: scipy>=0.18 in c:\\users\\user\\appdata\\local\\programs\\python\\python39\\lib\\site-packages (from plotly_express) (1.6.3)\n",
      "Requirement already satisfied: plotly>=4.1.0 in c:\\users\\user\\appdata\\local\\programs\\python\\python39\\lib\\site-packages (from plotly_express) (4.14.3)\n",
      "Requirement already satisfied: python-dateutil>=2.7.3 in c:\\users\\user\\appdata\\local\\programs\\python\\python39\\lib\\site-packages (from pandas>=0.20.0->plotly_express) (2.8.1)\n",
      "Requirement already satisfied: pytz>=2017.3 in c:\\users\\user\\appdata\\local\\programs\\python\\python39\\lib\\site-packages (from pandas>=0.20.0->plotly_express) (2021.1)\n",
      "Requirement already satisfied: six in c:\\users\\user\\appdata\\local\\programs\\python\\python39\\lib\\site-packages (from patsy>=0.5->plotly_express) (1.16.0)\n",
      "Requirement already satisfied: retrying>=1.3.3 in c:\\users\\user\\appdata\\local\\programs\\python\\python39\\lib\\site-packages (from plotly>=4.1.0->plotly_express) (1.3.3)\n"
     ]
    },
    {
     "name": "stderr",
     "output_type": "stream",
     "text": [
      "WARNING: You are using pip version 21.1.1; however, version 21.1.3 is available.\n",
      "You should consider upgrading via the 'c:\\users\\user\\appdata\\local\\programs\\python\\python39\\python.exe -m pip install --upgrade pip' command.\n"
     ]
    }
   ],
   "source": [
    "!pip install plotly_express"
   ]
  },
  {
   "cell_type": "code",
   "execution_count": 6,
   "metadata": {},
   "outputs": [
    {
     "name": "stdout",
     "output_type": "stream",
     "text": [
      "\u001b[42m\n",
      "\u001b[0m\n",
      "\u001b[92m........... 🆂  🆃  🅰   🆁  🆃 ...........\n",
      "\u001b[0m"
     ]
    }
   ],
   "source": [
    "from numpy import linalg as LA\n",
    "from sympy import Matrix\n",
    "from scipy.linalg import lu, qr\n",
    "import plotly.express as px\n",
    "import plotly.graph_objs as go\n",
    "import matplotlib.pyplot as plt\n",
    "from mpl_toolkits.mplot3d import Axes3D\n",
    "import numpy as np\n",
    "import math\n",
    "import sys\n",
    "\n",
    "\n",
    "\n",
    "# sys.path.insert(1, 'D:\\AAlearnAA\\Study\\python')\n",
    "\n",
    "from rutaul import pg,pm,pr,py\n",
    "from packages import nets_draws as nd"
   ]
  },
  {
   "cell_type": "markdown",
   "metadata": {},
   "source": [
    "# The main method "
   ]
  },
  {
   "cell_type": "code",
   "execution_count": 9,
   "metadata": {},
   "outputs": [
    {
     "name": "stdout",
     "output_type": "stream",
     "text": [
      "vector\n",
      "[[-1.3  1.3]\n",
      " [-1.  -1. ]\n",
      " [-1.  -1. ]]\n",
      "matrix\n",
      "[[2 1 0]\n",
      " [0 1 0]\n",
      " [0 0 1]]\n",
      "dot priduct\n",
      "[[-3.6  1.6]\n",
      " [-1.  -1. ]\n",
      " [-1.  -1. ]]\n",
      "vector\n",
      "[[-1.3  1.3]\n",
      " [ 0.   0. ]\n",
      " [-1.  -1. ]]\n",
      "matrix\n",
      "[[2 1 0]\n",
      " [0 1 0]\n",
      " [0 0 1]]\n",
      "dot priduct\n",
      "[[-2.6  2.6]\n",
      " [ 0.   0. ]\n",
      " [-1.  -1. ]]\n",
      "vector\n",
      "[[-1.3  1.3]\n",
      " [ 1.   1. ]\n",
      " [-1.  -1. ]]\n",
      "matrix\n",
      "[[2 1 0]\n",
      " [0 1 0]\n",
      " [0 0 1]]\n",
      "dot priduct\n",
      "[[-1.6  3.6]\n",
      " [ 1.   1. ]\n",
      " [-1.  -1. ]]\n",
      "vector\n",
      "[[-1.3  1.3]\n",
      " [-1.  -1. ]\n",
      " [ 0.   0. ]]\n",
      "matrix\n",
      "[[2 1 0]\n",
      " [0 1 0]\n",
      " [0 0 1]]\n",
      "dot priduct\n",
      "[[-3.6  1.6]\n",
      " [-1.  -1. ]\n",
      " [ 0.   0. ]]\n",
      "vector\n",
      "[[-1.3  1.3]\n",
      " [ 0.   0. ]\n",
      " [ 0.   0. ]]\n",
      "matrix\n",
      "[[2 1 0]\n",
      " [0 1 0]\n",
      " [0 0 1]]\n",
      "dot priduct\n",
      "[[-2.6  2.6]\n",
      " [ 0.   0. ]\n",
      " [ 0.   0. ]]\n",
      "vector\n",
      "[[-1.3  1.3]\n",
      " [ 1.   1. ]\n",
      " [ 0.   0. ]]\n",
      "matrix\n",
      "[[2 1 0]\n",
      " [0 1 0]\n",
      " [0 0 1]]\n",
      "dot priduct\n",
      "[[-1.6  3.6]\n",
      " [ 1.   1. ]\n",
      " [ 0.   0. ]]\n",
      "vector\n",
      "[[-1.3  1.3]\n",
      " [-1.  -1. ]\n",
      " [ 1.   1. ]]\n",
      "matrix\n",
      "[[2 1 0]\n",
      " [0 1 0]\n",
      " [0 0 1]]\n",
      "dot priduct\n",
      "[[-3.6  1.6]\n",
      " [-1.  -1. ]\n",
      " [ 1.   1. ]]\n",
      "vector\n",
      "[[-1.3  1.3]\n",
      " [ 0.   0. ]\n",
      " [ 1.   1. ]]\n",
      "matrix\n",
      "[[2 1 0]\n",
      " [0 1 0]\n",
      " [0 0 1]]\n",
      "dot priduct\n",
      "[[-2.6  2.6]\n",
      " [ 0.   0. ]\n",
      " [ 1.   1. ]]\n",
      "vector\n",
      "[[-1.3  1.3]\n",
      " [ 1.   1. ]\n",
      " [ 1.   1. ]]\n",
      "matrix\n",
      "[[2 1 0]\n",
      " [0 1 0]\n",
      " [0 0 1]]\n",
      "dot priduct\n",
      "[[-1.6  3.6]\n",
      " [ 1.   1. ]\n",
      " [ 1.   1. ]]\n",
      "vector\n",
      "[[-1.3  1.3]\n",
      " [-1.  -1. ]\n",
      " [-1.  -1. ]]\n",
      "matrix\n",
      "[[1. 0. 0.]\n",
      " [0. 1. 0.]\n",
      " [0. 0. 1.]]\n",
      "dot priduct\n",
      "[[-1.3  1.3]\n",
      " [-1.  -1. ]\n",
      " [-1.  -1. ]]\n",
      "vector\n",
      "[[-1.3  1.3]\n",
      " [ 0.   0. ]\n",
      " [-1.  -1. ]]\n",
      "matrix\n",
      "[[1. 0. 0.]\n",
      " [0. 1. 0.]\n",
      " [0. 0. 1.]]\n",
      "dot priduct\n",
      "[[-1.3  1.3]\n",
      " [ 0.   0. ]\n",
      " [-1.  -1. ]]\n",
      "vector\n",
      "[[-1.3  1.3]\n",
      " [ 1.   1. ]\n",
      " [-1.  -1. ]]\n",
      "matrix\n",
      "[[1. 0. 0.]\n",
      " [0. 1. 0.]\n",
      " [0. 0. 1.]]\n",
      "dot priduct\n",
      "[[-1.3  1.3]\n",
      " [ 1.   1. ]\n",
      " [-1.  -1. ]]\n",
      "vector\n",
      "[[-1.3  1.3]\n",
      " [-1.  -1. ]\n",
      " [ 0.   0. ]]\n",
      "matrix\n",
      "[[1. 0. 0.]\n",
      " [0. 1. 0.]\n",
      " [0. 0. 1.]]\n",
      "dot priduct\n",
      "[[-1.3  1.3]\n",
      " [-1.  -1. ]\n",
      " [ 0.   0. ]]\n",
      "vector\n",
      "[[-1.3  1.3]\n",
      " [ 0.   0. ]\n",
      " [ 0.   0. ]]\n",
      "matrix\n",
      "[[1. 0. 0.]\n",
      " [0. 1. 0.]\n",
      " [0. 0. 1.]]\n",
      "dot priduct\n",
      "[[-1.3  1.3]\n",
      " [ 0.   0. ]\n",
      " [ 0.   0. ]]\n",
      "vector\n",
      "[[-1.3  1.3]\n",
      " [ 1.   1. ]\n",
      " [ 0.   0. ]]\n",
      "matrix\n",
      "[[1. 0. 0.]\n",
      " [0. 1. 0.]\n",
      " [0. 0. 1.]]\n",
      "dot priduct\n",
      "[[-1.3  1.3]\n",
      " [ 1.   1. ]\n",
      " [ 0.   0. ]]\n",
      "vector\n",
      "[[-1.3  1.3]\n",
      " [-1.  -1. ]\n",
      " [ 1.   1. ]]\n",
      "matrix\n",
      "[[1. 0. 0.]\n",
      " [0. 1. 0.]\n",
      " [0. 0. 1.]]\n",
      "dot priduct\n",
      "[[-1.3  1.3]\n",
      " [-1.  -1. ]\n",
      " [ 1.   1. ]]\n",
      "vector\n",
      "[[-1.3  1.3]\n",
      " [ 0.   0. ]\n",
      " [ 1.   1. ]]\n",
      "matrix\n",
      "[[1. 0. 0.]\n",
      " [0. 1. 0.]\n",
      " [0. 0. 1.]]\n",
      "dot priduct\n",
      "[[-1.3  1.3]\n",
      " [ 0.   0. ]\n",
      " [ 1.   1. ]]\n",
      "vector\n",
      "[[-1.3  1.3]\n",
      " [ 1.   1. ]\n",
      " [ 1.   1. ]]\n",
      "matrix\n",
      "[[1. 0. 0.]\n",
      " [0. 1. 0.]\n",
      " [0. 0. 1.]]\n",
      "dot priduct\n",
      "[[-1.3  1.3]\n",
      " [ 1.   1. ]\n",
      " [ 1.   1. ]]\n",
      "[[ 1.         -0.70710678  0.        ]\n",
      " [ 0.          0.70710678  0.        ]\n",
      " [ 0.          0.          1.        ]]\n",
      "[[0.       ]\n",
      " [0.8944272]\n",
      " [0.       ]]\n",
      "[[0.       ]\n",
      " [1.7888544]\n",
      " [0.       ]]\n"
     ]
    },
    {
     "data": {
      "application/vnd.plotly.v1+json": {
       "config": {
        "plotlyServerURL": "https://plot.ly"
       },
       "data": [
        {
         "line": {
          "color": [
           "#8ee600",
           "#8ee600",
           "white",
           "#b3005c",
           "#b3005c",
           "white",
           "#0079ad",
           "#0079ad"
          ],
          "width": 5
         },
         "mode": "lines",
         "name": "xyz",
         "showlegend": true,
         "type": "scatter3d",
         "x": [
          4,
          -4,
          null,
          0,
          0,
          null,
          0,
          0
         ],
         "y": [
          0,
          0,
          null,
          4,
          -4,
          null,
          0,
          0
         ],
         "z": [
          0,
          0,
          null,
          0,
          0,
          null,
          4,
          -4
         ]
        },
        {
         "color": "grey",
         "i": [
          7,
          0,
          0,
          0,
          4,
          4,
          6,
          6,
          4,
          0,
          3,
          2
         ],
         "j": [
          3,
          4,
          1,
          2,
          5,
          6,
          5,
          2,
          0,
          1,
          6,
          3
         ],
         "k": [
          0,
          7,
          2,
          3,
          6,
          7,
          1,
          1,
          5,
          5,
          7,
          6
         ],
         "legendgroup": "unit Det",
         "name": "unit Det",
         "opacity": 0.1,
         "showlegend": true,
         "type": "mesh3d",
         "x": [
          0,
          0,
          1,
          1,
          0,
          0,
          1,
          1
         ],
         "y": [
          0,
          1,
          1,
          0,
          0,
          1,
          1,
          0
         ],
         "z": [
          0,
          0,
          0,
          0,
          1,
          1,
          1,
          1
         ]
        },
        {
         "legendgroup": "unit Det",
         "line": {
          "width": 2
         },
         "marker": {
          "color": "grey",
          "size": 4
         },
         "mode": "markers+text+lines",
         "name": "unit Det",
         "showlegend": true,
         "text": [
          "1",
          "2",
          "3",
          "4",
          "5",
          "6",
          "7",
          "8"
         ],
         "textposition": "bottom center",
         "type": "scatter3d",
         "x": [
          0,
          0,
          1,
          1,
          1,
          1,
          0,
          0,
          0,
          0,
          0,
          1,
          1,
          1,
          0,
          0,
          1
         ],
         "y": [
          0,
          1,
          1,
          0,
          0,
          1,
          1,
          0,
          0,
          1,
          1,
          1,
          1,
          0,
          0,
          0,
          0
         ],
         "z": [
          0,
          0,
          0,
          0,
          1,
          1,
          1,
          1,
          0,
          0,
          1,
          1,
          0,
          0,
          0,
          1,
          1
         ]
        },
        {
         "legendgroup": "Col Base X",
         "line": {
          "color": "limegreen",
          "width": 2
         },
         "mode": "lines",
         "name": "Col Base X",
         "opacity": 0.9,
         "showlegend": true,
         "type": "scatter3d",
         "x": [
          -3.6,
          1.6,
          null,
          -2.6,
          2.6,
          null,
          -1.6,
          3.6,
          null,
          -3.6,
          1.6,
          null,
          -2.6,
          2.6,
          null,
          -1.6,
          3.6,
          null,
          -3.6,
          1.6,
          null,
          -2.6,
          2.6,
          null,
          -1.6,
          3.6,
          null
         ],
         "y": [
          -1,
          -1,
          null,
          0,
          0,
          null,
          1,
          1,
          null,
          -1,
          -1,
          null,
          0,
          0,
          null,
          1,
          1,
          null,
          -1,
          -1,
          null,
          0,
          0,
          null,
          1,
          1,
          null
         ],
         "z": [
          -1,
          -1,
          null,
          -1,
          -1,
          null,
          -1,
          -1,
          null,
          0,
          0,
          null,
          0,
          0,
          null,
          0,
          0,
          null,
          1,
          1,
          null,
          1,
          1,
          null,
          1,
          1,
          null
         ]
        },
        {
         "legendgroup": "Col Base X",
         "line": {
          "color": "limegreen",
          "width": 2
         },
         "mode": "lines",
         "name": "Col Base Y",
         "opacity": 0.9,
         "showlegend": true,
         "type": "scatter3d",
         "x": [
          -3.3,
          -0.7,
          null,
          -1.3,
          1.3,
          null,
          0.7,
          3.3,
          null,
          -3.3,
          -0.7,
          null,
          -1.3,
          1.3,
          null,
          0.7,
          3.3,
          null,
          -3.3,
          -0.7,
          null,
          -1.3,
          1.3,
          null,
          0.7,
          3.3,
          null
         ],
         "y": [
          -1.3,
          1.3,
          null,
          -1.3,
          1.3,
          null,
          -1.3,
          1.3,
          null,
          -1.3,
          1.3,
          null,
          -1.3,
          1.3,
          null,
          -1.3,
          1.3,
          null,
          -1.3,
          1.3,
          null,
          -1.3,
          1.3,
          null,
          -1.3,
          1.3,
          null
         ],
         "z": [
          -1,
          -1,
          null,
          -1,
          -1,
          null,
          -1,
          -1,
          null,
          0,
          0,
          null,
          0,
          0,
          null,
          0,
          0,
          null,
          1,
          1,
          null,
          1,
          1,
          null,
          1,
          1,
          null
         ]
        },
        {
         "legendgroup": "Col Base X",
         "line": {
          "color": "limegreen",
          "width": 2
         },
         "mode": "lines",
         "name": "Col Base Z",
         "opacity": 0.9,
         "showlegend": true,
         "type": "scatter3d",
         "x": [
          -3,
          -3,
          null,
          -1,
          -1,
          null,
          1,
          1,
          null,
          -2,
          -2,
          null,
          0,
          0,
          null,
          2,
          2,
          null,
          -1,
          -1,
          null,
          1,
          1,
          null,
          3,
          3,
          null
         ],
         "y": [
          -1,
          -1,
          null,
          -1,
          -1,
          null,
          -1,
          -1,
          null,
          0,
          0,
          null,
          0,
          0,
          null,
          0,
          0,
          null,
          1,
          1,
          null,
          1,
          1,
          null,
          1,
          1,
          null
         ],
         "z": [
          -1.3,
          1.3,
          null,
          -1.3,
          1.3,
          null,
          -1.3,
          1.3,
          null,
          -1.3,
          1.3,
          null,
          -1.3,
          1.3,
          null,
          -1.3,
          1.3,
          null,
          -1.3,
          1.3,
          null,
          -1.3,
          1.3,
          null,
          -1.3,
          1.3,
          null
         ]
        },
        {
         "legendgroup": "Unit Base X",
         "line": {
          "color": "grey",
          "width": 4
         },
         "mode": "lines",
         "name": "Unit Base X",
         "opacity": 0.6,
         "showlegend": true,
         "type": "scatter3d",
         "x": [
          -1.3,
          1.3,
          null,
          -1.3,
          1.3,
          null,
          -1.3,
          1.3,
          null,
          -1.3,
          1.3,
          null,
          -1.3,
          1.3,
          null,
          -1.3,
          1.3,
          null,
          -1.3,
          1.3,
          null,
          -1.3,
          1.3,
          null,
          -1.3,
          1.3,
          null
         ],
         "y": [
          -1,
          -1,
          null,
          0,
          0,
          null,
          1,
          1,
          null,
          -1,
          -1,
          null,
          0,
          0,
          null,
          1,
          1,
          null,
          -1,
          -1,
          null,
          0,
          0,
          null,
          1,
          1,
          null
         ],
         "z": [
          -1,
          -1,
          null,
          -1,
          -1,
          null,
          -1,
          -1,
          null,
          0,
          0,
          null,
          0,
          0,
          null,
          0,
          0,
          null,
          1,
          1,
          null,
          1,
          1,
          null,
          1,
          1,
          null
         ]
        },
        {
         "legendgroup": "Unit Base X",
         "line": {
          "color": "grey",
          "width": 4
         },
         "mode": "lines",
         "name": "Unit Base Y",
         "opacity": 0.6,
         "showlegend": true,
         "type": "scatter3d",
         "x": [
          -1,
          -1,
          null,
          0,
          0,
          null,
          1,
          1,
          null,
          -1,
          -1,
          null,
          0,
          0,
          null,
          1,
          1,
          null,
          -1,
          -1,
          null,
          0,
          0,
          null,
          1,
          1,
          null
         ],
         "y": [
          -1.3,
          1.3,
          null,
          -1.3,
          1.3,
          null,
          -1.3,
          1.3,
          null,
          -1.3,
          1.3,
          null,
          -1.3,
          1.3,
          null,
          -1.3,
          1.3,
          null,
          -1.3,
          1.3,
          null,
          -1.3,
          1.3,
          null,
          -1.3,
          1.3,
          null
         ],
         "z": [
          -1,
          -1,
          null,
          -1,
          -1,
          null,
          -1,
          -1,
          null,
          0,
          0,
          null,
          0,
          0,
          null,
          0,
          0,
          null,
          1,
          1,
          null,
          1,
          1,
          null,
          1,
          1,
          null
         ]
        },
        {
         "legendgroup": "Unit Base X",
         "line": {
          "color": "grey",
          "width": 4
         },
         "mode": "lines",
         "name": "Unit Base Z",
         "opacity": 0.6,
         "showlegend": true,
         "type": "scatter3d",
         "x": [
          -1,
          -1,
          null,
          0,
          0,
          null,
          1,
          1,
          null,
          -1,
          -1,
          null,
          0,
          0,
          null,
          1,
          1,
          null,
          -1,
          -1,
          null,
          0,
          0,
          null,
          1,
          1,
          null
         ],
         "y": [
          -1,
          -1,
          null,
          -1,
          -1,
          null,
          -1,
          -1,
          null,
          0,
          0,
          null,
          0,
          0,
          null,
          0,
          0,
          null,
          1,
          1,
          null,
          1,
          1,
          null,
          1,
          1,
          null
         ],
         "z": [
          -1.3,
          1.3,
          null,
          -1.3,
          1.3,
          null,
          -1.3,
          1.3,
          null,
          -1.3,
          1.3,
          null,
          -1.3,
          1.3,
          null,
          -1.3,
          1.3,
          null,
          -1.3,
          1.3,
          null,
          -1.3,
          1.3,
          null,
          -1.3,
          1.3,
          null
         ]
        },
        {
         "color": "#ecfc03",
         "i": [
          7,
          0,
          0,
          0,
          4,
          4,
          6,
          6,
          4,
          0,
          3,
          2
         ],
         "j": [
          3,
          4,
          1,
          2,
          5,
          6,
          5,
          2,
          0,
          1,
          6,
          3
         ],
         "k": [
          0,
          7,
          2,
          3,
          6,
          7,
          1,
          1,
          5,
          5,
          7,
          6
         ],
         "legendgroup": "Col Det",
         "name": "Col Det",
         "opacity": 0.1,
         "showlegend": true,
         "type": "mesh3d",
         "x": [
          0,
          1,
          3,
          2,
          0,
          1,
          3,
          2
         ],
         "y": [
          0,
          1,
          1,
          0,
          0,
          1,
          1,
          0
         ],
         "z": [
          0,
          0,
          0,
          0,
          1,
          1,
          1,
          1
         ]
        },
        {
         "legendgroup": "Col Det",
         "line": {
          "width": 2
         },
         "marker": {
          "color": "#ecfc03",
          "size": 4
         },
         "mode": "markers+text+lines",
         "name": "Col Det",
         "showlegend": true,
         "text": [
          "1",
          "2",
          "3",
          "4",
          "5",
          "6",
          "7",
          "8"
         ],
         "textposition": "bottom center",
         "type": "scatter3d",
         "x": [
          0,
          1,
          3,
          2,
          2,
          3,
          1,
          0,
          0,
          1,
          1,
          3,
          3,
          2,
          0,
          0,
          2
         ],
         "y": [
          0,
          1,
          1,
          0,
          0,
          1,
          1,
          0,
          0,
          1,
          1,
          1,
          1,
          0,
          0,
          0,
          0
         ],
         "z": [
          0,
          0,
          0,
          0,
          1,
          1,
          1,
          1,
          0,
          0,
          1,
          1,
          0,
          0,
          0,
          1,
          1
         ]
        },
        {
         "line": {
          "color": [
           "#e4ff94",
           "#e4ff94",
           "white",
           "#ffa8f1",
           "#ffa8f1",
           "white",
           "#a8d5ff",
           "#a8d5ff"
          ],
          "width": 10
         },
         "mode": "lines",
         "name": "Row Vector",
         "showlegend": true,
         "type": "scatter3d",
         "x": [
          2,
          0,
          null,
          0,
          0,
          null,
          0,
          0,
          null
         ],
         "y": [
          1,
          0,
          null,
          1,
          0,
          null,
          0,
          0,
          null
         ],
         "z": [
          0,
          0,
          null,
          0,
          0,
          null,
          1,
          0,
          null
         ]
        },
        {
         "color": "green",
         "i": [
          7,
          0,
          0,
          0,
          4,
          4,
          6,
          6,
          4,
          0,
          3,
          2
         ],
         "j": [
          3,
          4,
          1,
          2,
          5,
          6,
          5,
          2,
          0,
          1,
          6,
          3
         ],
         "k": [
          0,
          7,
          2,
          3,
          6,
          7,
          1,
          1,
          5,
          5,
          7,
          6
         ],
         "legendgroup": "Row Det",
         "name": "Row Det",
         "opacity": 0.1,
         "showlegend": true,
         "type": "mesh3d",
         "x": [
          0,
          0,
          2,
          2,
          0,
          0,
          2,
          2
         ],
         "y": [
          0,
          1,
          2,
          1,
          0,
          1,
          2,
          1
         ],
         "z": [
          0,
          0,
          0,
          0,
          1,
          1,
          1,
          1
         ]
        },
        {
         "legendgroup": "Row Det",
         "line": {
          "width": 2
         },
         "marker": {
          "color": "green",
          "size": 4
         },
         "mode": "markers+text+lines",
         "name": "Row Det",
         "showlegend": true,
         "text": [
          "1",
          "2",
          "3",
          "4",
          "5",
          "6",
          "7",
          "8"
         ],
         "textposition": "bottom center",
         "type": "scatter3d",
         "x": [
          0,
          0,
          2,
          2,
          2,
          2,
          0,
          0,
          0,
          0,
          0,
          2,
          2,
          2,
          0,
          0,
          2
         ],
         "y": [
          0,
          1,
          2,
          1,
          1,
          2,
          1,
          0,
          0,
          1,
          1,
          2,
          2,
          1,
          0,
          0,
          1
         ],
         "z": [
          0,
          0,
          0,
          0,
          1,
          1,
          1,
          1,
          0,
          0,
          1,
          1,
          0,
          0,
          0,
          1,
          1
         ]
        },
        {
         "marker": {
          "color": "greenyellow"
         },
         "mode": "markers",
         "name": "Before Projectoin Added Along NullSpace",
         "showlegend": true,
         "type": "scatter3d",
         "x": [],
         "y": [],
         "z": []
        },
        {
         "marker": {
          "color": "deepskyblue"
         },
         "mode": "markers",
         "name": "Before Projectoin Main",
         "showlegend": true,
         "type": "scatter3d",
         "x": [],
         "y": [],
         "z": []
        },
        {
         "marker": {
          "color": "mediumvioletred"
         },
         "mode": "markers",
         "showlegend": false,
         "type": "scatter3d",
         "x": [],
         "y": [],
         "z": []
        },
        {
         "legendgroup": "group2",
         "line": {
          "color": "lightskyblue",
          "width": 9
         },
         "mode": "lines",
         "name": "Null Base",
         "opacity": 0.6,
         "showlegend": true,
         "type": "scatter3d",
         "x": [],
         "y": [],
         "z": []
        },
        {
         "line": {
          "color": "gray",
          "width": 3
         },
         "mode": "lines",
         "name": "Landing connection Trace",
         "opacity": 0.9,
         "showlegend": true,
         "type": "scatter3d",
         "x": [],
         "y": [],
         "z": []
        },
        {
         "line": {
          "color": "red",
          "width": 2
         },
         "mode": "lines",
         "name": "Landing connection",
         "opacity": 0.9,
         "showlegend": true,
         "type": "scatter3d",
         "x": [],
         "y": [],
         "z": []
        },
        {
         "line": {
          "color": [
           "#e4ff94",
           "#e4ff94",
           "white",
           "#ffa8f1",
           "#ffa8f1",
           "white",
           "#a8d5ff",
           "#a8d5ff"
          ],
          "width": 10
         },
         "mode": "lines+text",
         "name": "EigenVectors",
         "showlegend": true,
         "text": [
          2,
          null,
          null,
          1,
          null,
          null,
          1,
          null,
          null
         ],
         "type": "scatter3d",
         "x": [
          1,
          0,
          null,
          -0.7071067811865475,
          0,
          null,
          0,
          0,
          null
         ],
         "y": [
          0,
          0,
          null,
          0.7071067811865475,
          0,
          null,
          0,
          0,
          null
         ],
         "z": [
          0,
          0,
          null,
          0,
          0,
          null,
          1,
          0,
          null
         ]
        },
        {
         "color": "deepskyblue",
         "i": [
          7,
          0,
          0,
          0,
          4,
          4,
          6,
          6,
          4,
          0,
          3,
          2
         ],
         "j": [
          3,
          4,
          1,
          2,
          5,
          6,
          5,
          2,
          0,
          1,
          6,
          3
         ],
         "k": [
          0,
          7,
          2,
          3,
          6,
          7,
          1,
          1,
          5,
          5,
          7,
          6
         ],
         "legendgroup": "eigen Determent",
         "name": "eigen Determent",
         "opacity": 0.1,
         "showlegend": true,
         "type": "mesh3d",
         "x": [
          0,
          -0.7071067811865475,
          0.29289321881345254,
          1,
          0,
          -0.7071067811865475,
          0.29289321881345254,
          1
         ],
         "y": [
          0,
          0.7071067811865475,
          0.7071067811865475,
          0,
          0,
          0.7071067811865475,
          0.7071067811865475,
          0
         ],
         "z": [
          0,
          0,
          0,
          0,
          1,
          1,
          1,
          1
         ]
        },
        {
         "legendgroup": "eigen Determent",
         "line": {
          "width": 2
         },
         "marker": {
          "color": "deepskyblue",
          "size": 4
         },
         "mode": "markers+text+lines",
         "name": "eigen Determent",
         "showlegend": true,
         "text": [
          "1",
          "2",
          "3",
          "4",
          "5",
          "6",
          "7",
          "8"
         ],
         "textposition": "bottom center",
         "type": "scatter3d",
         "x": [
          0,
          -0.7071067811865475,
          0.29289321881345254,
          1,
          1,
          0.29289321881345254,
          -0.7071067811865475,
          0,
          0,
          -0.7071067811865475,
          -0.7071067811865475,
          0.29289321881345254,
          0.29289321881345254,
          1,
          0,
          0,
          1
         ],
         "y": [
          0,
          0.7071067811865475,
          0.7071067811865475,
          0,
          0,
          0.7071067811865475,
          0.7071067811865475,
          0,
          0,
          0.7071067811865475,
          0.7071067811865475,
          0.7071067811865475,
          0.7071067811865475,
          0,
          0,
          0,
          0
         ],
         "z": [
          0,
          0,
          0,
          0,
          1,
          1,
          1,
          1,
          0,
          0,
          1,
          1,
          0,
          0,
          0,
          1,
          1
         ]
        },
        {
         "line": {
          "color": [
           "#e4ff94",
           "#e4ff94",
           "white",
           "#ffa8f1",
           "#ffa8f1",
           "white",
           "#a8d5ff",
           "#a8d5ff"
          ],
          "width": 10
         },
         "mode": "lines",
         "name": "TTeigenTT Vector",
         "showlegend": true,
         "type": "scatter3d",
         "x": [
          1,
          0,
          null,
          0,
          0,
          null,
          0,
          0,
          null
         ],
         "y": [
          -0.7071067811865475,
          0,
          null,
          0.7071067811865475,
          0,
          null,
          0,
          0,
          null
         ],
         "z": [
          0,
          0,
          null,
          0,
          0,
          null,
          1,
          0,
          null
         ]
        },
        {
         "color": "purple",
         "i": [
          7,
          0,
          0,
          0,
          4,
          4,
          6,
          6,
          4,
          0,
          3,
          2
         ],
         "j": [
          3,
          4,
          1,
          2,
          5,
          6,
          5,
          2,
          0,
          1,
          6,
          3
         ],
         "k": [
          0,
          7,
          2,
          3,
          6,
          7,
          1,
          1,
          5,
          5,
          7,
          6
         ],
         "legendgroup": "TTeigenTT Determent",
         "name": "TTeigenTT Determent",
         "opacity": 0.1,
         "showlegend": true,
         "type": "mesh3d",
         "x": [
          0,
          0,
          1,
          1,
          0,
          0,
          1,
          1
         ],
         "y": [
          0,
          0.7071067811865475,
          0,
          -0.7071067811865475,
          0,
          0.7071067811865475,
          0,
          -0.7071067811865475
         ],
         "z": [
          0,
          0,
          0,
          0,
          1,
          1,
          1,
          1
         ]
        },
        {
         "legendgroup": "TTeigenTT Determent",
         "line": {
          "width": 2
         },
         "marker": {
          "color": "purple",
          "size": 4
         },
         "mode": "markers+text+lines",
         "name": "TTeigenTT Determent",
         "showlegend": true,
         "text": [
          "1",
          "2",
          "3",
          "4",
          "5",
          "6",
          "7",
          "8"
         ],
         "textposition": "bottom center",
         "type": "scatter3d",
         "x": [
          0,
          0,
          1,
          1,
          1,
          1,
          0,
          0,
          0,
          0,
          0,
          1,
          1,
          1,
          0,
          0,
          1
         ],
         "y": [
          0,
          0.7071067811865475,
          0,
          -0.7071067811865475,
          -0.7071067811865475,
          0,
          0.7071067811865475,
          0,
          0,
          0.7071067811865475,
          0.7071067811865475,
          0,
          0,
          -0.7071067811865475,
          0,
          0,
          -0.7071067811865475
         ],
         "z": [
          0,
          0,
          0,
          0,
          1,
          1,
          1,
          1,
          0,
          0,
          1,
          1,
          0,
          0,
          0,
          1,
          1
         ]
        },
        {
         "line": {
          "color": [
           "#e4ff94",
           "#e4ff94",
           "white",
           "#ffa8f1",
           "#ffa8f1",
           "white",
           "#a8d5ff",
           "#a8d5ff"
          ],
          "width": 10
         },
         "mode": "lines",
         "name": "col inv Vec",
         "showlegend": true,
         "type": "scatter3d",
         "x": [
          0.5,
          0,
          null,
          -0.5,
          0,
          null,
          0,
          0,
          null
         ],
         "y": [
          0,
          0,
          null,
          1,
          0,
          null,
          0,
          0,
          null
         ],
         "z": [
          0,
          0,
          null,
          0,
          0,
          null,
          1,
          0,
          null
         ]
        },
        {
         "color": "red",
         "i": [
          7,
          0,
          0,
          0,
          4,
          4,
          6,
          6,
          4,
          0,
          3,
          2
         ],
         "j": [
          3,
          4,
          1,
          2,
          5,
          6,
          5,
          2,
          0,
          1,
          6,
          3
         ],
         "k": [
          0,
          7,
          2,
          3,
          6,
          7,
          1,
          1,
          5,
          5,
          7,
          6
         ],
         "legendgroup": "Col inv Det",
         "name": "Col inv Det",
         "opacity": 0.1,
         "showlegend": true,
         "type": "mesh3d",
         "x": [
          0,
          -0.5,
          0,
          0.5,
          0,
          -0.5,
          0,
          0.5
         ],
         "y": [
          0,
          1,
          1,
          0,
          0,
          1,
          1,
          0
         ],
         "z": [
          0,
          0,
          0,
          0,
          1,
          1,
          1,
          1
         ]
        },
        {
         "legendgroup": "Col inv Det",
         "line": {
          "width": 2
         },
         "marker": {
          "color": "red",
          "size": 4
         },
         "mode": "markers+text+lines",
         "name": "Col inv Det",
         "showlegend": true,
         "text": [
          "1",
          "2",
          "3",
          "4",
          "5",
          "6",
          "7",
          "8"
         ],
         "textposition": "bottom center",
         "type": "scatter3d",
         "x": [
          0,
          -0.5,
          0,
          0.5,
          0.5,
          0,
          -0.5,
          0,
          0,
          -0.5,
          -0.5,
          0,
          0,
          0.5,
          0,
          0,
          0.5
         ],
         "y": [
          0,
          1,
          1,
          0,
          0,
          1,
          1,
          0,
          0,
          1,
          1,
          1,
          1,
          0,
          0,
          0,
          0
         ],
         "z": [
          0,
          0,
          0,
          0,
          1,
          1,
          1,
          1,
          0,
          0,
          1,
          1,
          0,
          0,
          0,
          1,
          1
         ]
        },
        {
         "line": {
          "color": [
           "#e4ff94",
           "#e4ff94",
           "white",
           "#ffa8f1",
           "#ffa8f1",
           "white",
           "#a8d5ff",
           "#a8d5ff"
          ],
          "width": 10
         },
         "mode": "lines",
         "name": "Row Inv Vector",
         "showlegend": true,
         "type": "scatter3d",
         "x": [
          0.5,
          0,
          null,
          0,
          0,
          null,
          0,
          0,
          null
         ],
         "y": [
          -0.5,
          0,
          null,
          1,
          0,
          null,
          0,
          0,
          null
         ],
         "z": [
          0,
          0,
          null,
          0,
          0,
          null,
          1,
          0,
          null
         ]
        },
        {
         "color": "pink",
         "i": [
          7,
          0,
          0,
          0,
          4,
          4,
          6,
          6,
          4,
          0,
          3,
          2
         ],
         "j": [
          3,
          4,
          1,
          2,
          5,
          6,
          5,
          2,
          0,
          1,
          6,
          3
         ],
         "k": [
          0,
          7,
          2,
          3,
          6,
          7,
          1,
          1,
          5,
          5,
          7,
          6
         ],
         "legendgroup": "Row inv Det",
         "name": "Row inv Det",
         "opacity": 0.1,
         "showlegend": true,
         "type": "mesh3d",
         "x": [
          0,
          0,
          0.5,
          0.5,
          0,
          0,
          0.5,
          0.5
         ],
         "y": [
          0,
          1,
          0.5,
          -0.5,
          0,
          1,
          0.5,
          -0.5
         ],
         "z": [
          0,
          0,
          0,
          0,
          1,
          1,
          1,
          1
         ]
        },
        {
         "legendgroup": "Row inv Det",
         "line": {
          "width": 2
         },
         "marker": {
          "color": "pink",
          "size": 4
         },
         "mode": "markers+text+lines",
         "name": "Row inv Det",
         "showlegend": true,
         "text": [
          "1",
          "2",
          "3",
          "4",
          "5",
          "6",
          "7",
          "8"
         ],
         "textposition": "bottom center",
         "type": "scatter3d",
         "x": [
          0,
          0,
          0.5,
          0.5,
          0.5,
          0.5,
          0,
          0,
          0,
          0,
          0,
          0.5,
          0.5,
          0.5,
          0,
          0,
          0.5
         ],
         "y": [
          0,
          1,
          0.5,
          -0.5,
          -0.5,
          0.5,
          1,
          0,
          0,
          1,
          1,
          0.5,
          0.5,
          -0.5,
          0,
          0,
          -0.5
         ],
         "z": [
          0,
          0,
          0,
          0,
          1,
          1,
          1,
          1,
          0,
          0,
          1,
          1,
          0,
          0,
          0,
          1,
          1
         ]
        }
       ],
       "layout": {
        "template": {
         "data": {
          "bar": [
           {
            "error_x": {
             "color": "#f2f5fa"
            },
            "error_y": {
             "color": "#f2f5fa"
            },
            "marker": {
             "line": {
              "color": "rgb(17,17,17)",
              "width": 0.5
             }
            },
            "type": "bar"
           }
          ],
          "barpolar": [
           {
            "marker": {
             "line": {
              "color": "rgb(17,17,17)",
              "width": 0.5
             }
            },
            "type": "barpolar"
           }
          ],
          "carpet": [
           {
            "aaxis": {
             "endlinecolor": "#A2B1C6",
             "gridcolor": "#506784",
             "linecolor": "#506784",
             "minorgridcolor": "#506784",
             "startlinecolor": "#A2B1C6"
            },
            "baxis": {
             "endlinecolor": "#A2B1C6",
             "gridcolor": "#506784",
             "linecolor": "#506784",
             "minorgridcolor": "#506784",
             "startlinecolor": "#A2B1C6"
            },
            "type": "carpet"
           }
          ],
          "choropleth": [
           {
            "colorbar": {
             "outlinewidth": 0,
             "ticks": ""
            },
            "type": "choropleth"
           }
          ],
          "contour": [
           {
            "colorbar": {
             "outlinewidth": 0,
             "ticks": ""
            },
            "colorscale": [
             [
              0,
              "#0d0887"
             ],
             [
              0.1111111111111111,
              "#46039f"
             ],
             [
              0.2222222222222222,
              "#7201a8"
             ],
             [
              0.3333333333333333,
              "#9c179e"
             ],
             [
              0.4444444444444444,
              "#bd3786"
             ],
             [
              0.5555555555555556,
              "#d8576b"
             ],
             [
              0.6666666666666666,
              "#ed7953"
             ],
             [
              0.7777777777777778,
              "#fb9f3a"
             ],
             [
              0.8888888888888888,
              "#fdca26"
             ],
             [
              1,
              "#f0f921"
             ]
            ],
            "type": "contour"
           }
          ],
          "contourcarpet": [
           {
            "colorbar": {
             "outlinewidth": 0,
             "ticks": ""
            },
            "type": "contourcarpet"
           }
          ],
          "heatmap": [
           {
            "colorbar": {
             "outlinewidth": 0,
             "ticks": ""
            },
            "colorscale": [
             [
              0,
              "#0d0887"
             ],
             [
              0.1111111111111111,
              "#46039f"
             ],
             [
              0.2222222222222222,
              "#7201a8"
             ],
             [
              0.3333333333333333,
              "#9c179e"
             ],
             [
              0.4444444444444444,
              "#bd3786"
             ],
             [
              0.5555555555555556,
              "#d8576b"
             ],
             [
              0.6666666666666666,
              "#ed7953"
             ],
             [
              0.7777777777777778,
              "#fb9f3a"
             ],
             [
              0.8888888888888888,
              "#fdca26"
             ],
             [
              1,
              "#f0f921"
             ]
            ],
            "type": "heatmap"
           }
          ],
          "heatmapgl": [
           {
            "colorbar": {
             "outlinewidth": 0,
             "ticks": ""
            },
            "colorscale": [
             [
              0,
              "#0d0887"
             ],
             [
              0.1111111111111111,
              "#46039f"
             ],
             [
              0.2222222222222222,
              "#7201a8"
             ],
             [
              0.3333333333333333,
              "#9c179e"
             ],
             [
              0.4444444444444444,
              "#bd3786"
             ],
             [
              0.5555555555555556,
              "#d8576b"
             ],
             [
              0.6666666666666666,
              "#ed7953"
             ],
             [
              0.7777777777777778,
              "#fb9f3a"
             ],
             [
              0.8888888888888888,
              "#fdca26"
             ],
             [
              1,
              "#f0f921"
             ]
            ],
            "type": "heatmapgl"
           }
          ],
          "histogram": [
           {
            "marker": {
             "colorbar": {
              "outlinewidth": 0,
              "ticks": ""
             }
            },
            "type": "histogram"
           }
          ],
          "histogram2d": [
           {
            "colorbar": {
             "outlinewidth": 0,
             "ticks": ""
            },
            "colorscale": [
             [
              0,
              "#0d0887"
             ],
             [
              0.1111111111111111,
              "#46039f"
             ],
             [
              0.2222222222222222,
              "#7201a8"
             ],
             [
              0.3333333333333333,
              "#9c179e"
             ],
             [
              0.4444444444444444,
              "#bd3786"
             ],
             [
              0.5555555555555556,
              "#d8576b"
             ],
             [
              0.6666666666666666,
              "#ed7953"
             ],
             [
              0.7777777777777778,
              "#fb9f3a"
             ],
             [
              0.8888888888888888,
              "#fdca26"
             ],
             [
              1,
              "#f0f921"
             ]
            ],
            "type": "histogram2d"
           }
          ],
          "histogram2dcontour": [
           {
            "colorbar": {
             "outlinewidth": 0,
             "ticks": ""
            },
            "colorscale": [
             [
              0,
              "#0d0887"
             ],
             [
              0.1111111111111111,
              "#46039f"
             ],
             [
              0.2222222222222222,
              "#7201a8"
             ],
             [
              0.3333333333333333,
              "#9c179e"
             ],
             [
              0.4444444444444444,
              "#bd3786"
             ],
             [
              0.5555555555555556,
              "#d8576b"
             ],
             [
              0.6666666666666666,
              "#ed7953"
             ],
             [
              0.7777777777777778,
              "#fb9f3a"
             ],
             [
              0.8888888888888888,
              "#fdca26"
             ],
             [
              1,
              "#f0f921"
             ]
            ],
            "type": "histogram2dcontour"
           }
          ],
          "mesh3d": [
           {
            "colorbar": {
             "outlinewidth": 0,
             "ticks": ""
            },
            "type": "mesh3d"
           }
          ],
          "parcoords": [
           {
            "line": {
             "colorbar": {
              "outlinewidth": 0,
              "ticks": ""
             }
            },
            "type": "parcoords"
           }
          ],
          "pie": [
           {
            "automargin": true,
            "type": "pie"
           }
          ],
          "scatter": [
           {
            "marker": {
             "line": {
              "color": "#283442"
             }
            },
            "type": "scatter"
           }
          ],
          "scatter3d": [
           {
            "line": {
             "colorbar": {
              "outlinewidth": 0,
              "ticks": ""
             }
            },
            "marker": {
             "colorbar": {
              "outlinewidth": 0,
              "ticks": ""
             }
            },
            "type": "scatter3d"
           }
          ],
          "scattercarpet": [
           {
            "marker": {
             "colorbar": {
              "outlinewidth": 0,
              "ticks": ""
             }
            },
            "type": "scattercarpet"
           }
          ],
          "scattergeo": [
           {
            "marker": {
             "colorbar": {
              "outlinewidth": 0,
              "ticks": ""
             }
            },
            "type": "scattergeo"
           }
          ],
          "scattergl": [
           {
            "marker": {
             "line": {
              "color": "#283442"
             }
            },
            "type": "scattergl"
           }
          ],
          "scattermapbox": [
           {
            "marker": {
             "colorbar": {
              "outlinewidth": 0,
              "ticks": ""
             }
            },
            "type": "scattermapbox"
           }
          ],
          "scatterpolar": [
           {
            "marker": {
             "colorbar": {
              "outlinewidth": 0,
              "ticks": ""
             }
            },
            "type": "scatterpolar"
           }
          ],
          "scatterpolargl": [
           {
            "marker": {
             "colorbar": {
              "outlinewidth": 0,
              "ticks": ""
             }
            },
            "type": "scatterpolargl"
           }
          ],
          "scatterternary": [
           {
            "marker": {
             "colorbar": {
              "outlinewidth": 0,
              "ticks": ""
             }
            },
            "type": "scatterternary"
           }
          ],
          "surface": [
           {
            "colorbar": {
             "outlinewidth": 0,
             "ticks": ""
            },
            "colorscale": [
             [
              0,
              "#0d0887"
             ],
             [
              0.1111111111111111,
              "#46039f"
             ],
             [
              0.2222222222222222,
              "#7201a8"
             ],
             [
              0.3333333333333333,
              "#9c179e"
             ],
             [
              0.4444444444444444,
              "#bd3786"
             ],
             [
              0.5555555555555556,
              "#d8576b"
             ],
             [
              0.6666666666666666,
              "#ed7953"
             ],
             [
              0.7777777777777778,
              "#fb9f3a"
             ],
             [
              0.8888888888888888,
              "#fdca26"
             ],
             [
              1,
              "#f0f921"
             ]
            ],
            "type": "surface"
           }
          ],
          "table": [
           {
            "cells": {
             "fill": {
              "color": "#506784"
             },
             "line": {
              "color": "rgb(17,17,17)"
             }
            },
            "header": {
             "fill": {
              "color": "#2a3f5f"
             },
             "line": {
              "color": "rgb(17,17,17)"
             }
            },
            "type": "table"
           }
          ]
         },
         "layout": {
          "annotationdefaults": {
           "arrowcolor": "#f2f5fa",
           "arrowhead": 0,
           "arrowwidth": 1
          },
          "autotypenumbers": "strict",
          "coloraxis": {
           "colorbar": {
            "outlinewidth": 0,
            "ticks": ""
           }
          },
          "colorscale": {
           "diverging": [
            [
             0,
             "#8e0152"
            ],
            [
             0.1,
             "#c51b7d"
            ],
            [
             0.2,
             "#de77ae"
            ],
            [
             0.3,
             "#f1b6da"
            ],
            [
             0.4,
             "#fde0ef"
            ],
            [
             0.5,
             "#f7f7f7"
            ],
            [
             0.6,
             "#e6f5d0"
            ],
            [
             0.7,
             "#b8e186"
            ],
            [
             0.8,
             "#7fbc41"
            ],
            [
             0.9,
             "#4d9221"
            ],
            [
             1,
             "#276419"
            ]
           ],
           "sequential": [
            [
             0,
             "#0d0887"
            ],
            [
             0.1111111111111111,
             "#46039f"
            ],
            [
             0.2222222222222222,
             "#7201a8"
            ],
            [
             0.3333333333333333,
             "#9c179e"
            ],
            [
             0.4444444444444444,
             "#bd3786"
            ],
            [
             0.5555555555555556,
             "#d8576b"
            ],
            [
             0.6666666666666666,
             "#ed7953"
            ],
            [
             0.7777777777777778,
             "#fb9f3a"
            ],
            [
             0.8888888888888888,
             "#fdca26"
            ],
            [
             1,
             "#f0f921"
            ]
           ],
           "sequentialminus": [
            [
             0,
             "#0d0887"
            ],
            [
             0.1111111111111111,
             "#46039f"
            ],
            [
             0.2222222222222222,
             "#7201a8"
            ],
            [
             0.3333333333333333,
             "#9c179e"
            ],
            [
             0.4444444444444444,
             "#bd3786"
            ],
            [
             0.5555555555555556,
             "#d8576b"
            ],
            [
             0.6666666666666666,
             "#ed7953"
            ],
            [
             0.7777777777777778,
             "#fb9f3a"
            ],
            [
             0.8888888888888888,
             "#fdca26"
            ],
            [
             1,
             "#f0f921"
            ]
           ]
          },
          "colorway": [
           "#636efa",
           "#EF553B",
           "#00cc96",
           "#ab63fa",
           "#FFA15A",
           "#19d3f3",
           "#FF6692",
           "#B6E880",
           "#FF97FF",
           "#FECB52"
          ],
          "font": {
           "color": "#f2f5fa"
          },
          "geo": {
           "bgcolor": "rgb(17,17,17)",
           "lakecolor": "rgb(17,17,17)",
           "landcolor": "rgb(17,17,17)",
           "showlakes": true,
           "showland": true,
           "subunitcolor": "#506784"
          },
          "hoverlabel": {
           "align": "left"
          },
          "hovermode": "closest",
          "mapbox": {
           "style": "dark"
          },
          "paper_bgcolor": "rgb(17,17,17)",
          "plot_bgcolor": "rgb(17,17,17)",
          "polar": {
           "angularaxis": {
            "gridcolor": "#506784",
            "linecolor": "#506784",
            "ticks": ""
           },
           "bgcolor": "rgb(17,17,17)",
           "radialaxis": {
            "gridcolor": "#506784",
            "linecolor": "#506784",
            "ticks": ""
           }
          },
          "scene": {
           "xaxis": {
            "backgroundcolor": "rgb(17,17,17)",
            "gridcolor": "#506784",
            "gridwidth": 2,
            "linecolor": "#506784",
            "showbackground": true,
            "ticks": "",
            "zerolinecolor": "#C8D4E3"
           },
           "yaxis": {
            "backgroundcolor": "rgb(17,17,17)",
            "gridcolor": "#506784",
            "gridwidth": 2,
            "linecolor": "#506784",
            "showbackground": true,
            "ticks": "",
            "zerolinecolor": "#C8D4E3"
           },
           "zaxis": {
            "backgroundcolor": "rgb(17,17,17)",
            "gridcolor": "#506784",
            "gridwidth": 2,
            "linecolor": "#506784",
            "showbackground": true,
            "ticks": "",
            "zerolinecolor": "#C8D4E3"
           }
          },
          "shapedefaults": {
           "line": {
            "color": "#f2f5fa"
           }
          },
          "sliderdefaults": {
           "bgcolor": "#C8D4E3",
           "bordercolor": "rgb(17,17,17)",
           "borderwidth": 1,
           "tickwidth": 0
          },
          "ternary": {
           "aaxis": {
            "gridcolor": "#506784",
            "linecolor": "#506784",
            "ticks": ""
           },
           "baxis": {
            "gridcolor": "#506784",
            "linecolor": "#506784",
            "ticks": ""
           },
           "bgcolor": "rgb(17,17,17)",
           "caxis": {
            "gridcolor": "#506784",
            "linecolor": "#506784",
            "ticks": ""
           }
          },
          "title": {
           "x": 0.05
          },
          "updatemenudefaults": {
           "bgcolor": "#506784",
           "borderwidth": 0
          },
          "xaxis": {
           "automargin": true,
           "gridcolor": "#283442",
           "linecolor": "#506784",
           "ticks": "",
           "title": {
            "standoff": 15
           },
           "zerolinecolor": "#283442",
           "zerolinewidth": 2
          },
          "yaxis": {
           "automargin": true,
           "gridcolor": "#283442",
           "linecolor": "#506784",
           "ticks": "",
           "title": {
            "standoff": 15
           },
           "zerolinecolor": "#283442",
           "zerolinewidth": 2
          }
         }
        }
       }
      },
      "text/html": [
       "<div>                            <div id=\"ac1b2b80-b475-4440-a0a0-3e9be580d923\" class=\"plotly-graph-div\" style=\"height:525px; width:100%;\"></div>            <script type=\"text/javascript\">                require([\"plotly\"], function(Plotly) {                    window.PLOTLYENV=window.PLOTLYENV || {};                                    if (document.getElementById(\"ac1b2b80-b475-4440-a0a0-3e9be580d923\")) {                    Plotly.newPlot(                        \"ac1b2b80-b475-4440-a0a0-3e9be580d923\",                        [{\"line\": {\"color\": [\"#8ee600\", \"#8ee600\", \"white\", \"#b3005c\", \"#b3005c\", \"white\", \"#0079ad\", \"#0079ad\"], \"width\": 5}, \"mode\": \"lines\", \"name\": \"xyz\", \"showlegend\": true, \"type\": \"scatter3d\", \"x\": [4, -4, null, 0, 0, null, 0, 0], \"y\": [0, 0, null, 4, -4, null, 0, 0], \"z\": [0, 0, null, 0, 0, null, 4, -4]}, {\"color\": \"grey\", \"i\": [7, 0, 0, 0, 4, 4, 6, 6, 4, 0, 3, 2], \"j\": [3, 4, 1, 2, 5, 6, 5, 2, 0, 1, 6, 3], \"k\": [0, 7, 2, 3, 6, 7, 1, 1, 5, 5, 7, 6], \"legendgroup\": \"unit Det\", \"name\": \"unit Det\", \"opacity\": 0.1, \"showlegend\": true, \"type\": \"mesh3d\", \"x\": [0, 0.0, 1.0, 1.0, 0.0, 0.0, 1.0, 1.0], \"y\": [0, 1.0, 1.0, 0.0, 0.0, 1.0, 1.0, 0.0], \"z\": [0, 0.0, 0.0, 0.0, 1.0, 1.0, 1.0, 1.0]}, {\"legendgroup\": \"unit Det\", \"line\": {\"width\": 2}, \"marker\": {\"color\": \"grey\", \"size\": 4}, \"mode\": \"markers+text+lines\", \"name\": \"unit Det\", \"showlegend\": true, \"text\": [\"1\", \"2\", \"3\", \"4\", \"5\", \"6\", \"7\", \"8\"], \"textposition\": \"bottom center\", \"type\": \"scatter3d\", \"x\": [0, 0.0, 1.0, 1.0, 1.0, 1.0, 0.0, 0.0, 0, 0.0, 0.0, 1.0, 1.0, 1.0, 0, 0.0, 1.0], \"y\": [0, 1.0, 1.0, 0.0, 0.0, 1.0, 1.0, 0.0, 0, 1.0, 1.0, 1.0, 1.0, 0.0, 0, 0.0, 0.0], \"z\": [0, 0.0, 0.0, 0.0, 1.0, 1.0, 1.0, 1.0, 0, 0.0, 1.0, 1.0, 0.0, 0.0, 0, 1.0, 1.0]}, {\"legendgroup\": \"Col Base X\", \"line\": {\"color\": \"limegreen\", \"width\": 2}, \"mode\": \"lines\", \"name\": \"Col Base X\", \"opacity\": 0.9, \"showlegend\": true, \"type\": \"scatter3d\", \"x\": [-3.6, 1.6, null, -2.6, 2.6, null, -1.6, 3.6, null, -3.6, 1.6, null, -2.6, 2.6, null, -1.6, 3.6, null, -3.6, 1.6, null, -2.6, 2.6, null, -1.6, 3.6, null], \"y\": [-1.0, -1.0, null, 0.0, 0.0, null, 1.0, 1.0, null, -1.0, -1.0, null, 0.0, 0.0, null, 1.0, 1.0, null, -1.0, -1.0, null, 0.0, 0.0, null, 1.0, 1.0, null], \"z\": [-1.0, -1.0, null, -1.0, -1.0, null, -1.0, -1.0, null, 0.0, 0.0, null, 0.0, 0.0, null, 0.0, 0.0, null, 1.0, 1.0, null, 1.0, 1.0, null, 1.0, 1.0, null]}, {\"legendgroup\": \"Col Base X\", \"line\": {\"color\": \"limegreen\", \"width\": 2}, \"mode\": \"lines\", \"name\": \"Col Base Y\", \"opacity\": 0.9, \"showlegend\": true, \"type\": \"scatter3d\", \"x\": [-3.3, -0.7, null, -1.3, 1.3, null, 0.7, 3.3, null, -3.3, -0.7, null, -1.3, 1.3, null, 0.7, 3.3, null, -3.3, -0.7, null, -1.3, 1.3, null, 0.7, 3.3, null], \"y\": [-1.3, 1.3, null, -1.3, 1.3, null, -1.3, 1.3, null, -1.3, 1.3, null, -1.3, 1.3, null, -1.3, 1.3, null, -1.3, 1.3, null, -1.3, 1.3, null, -1.3, 1.3, null], \"z\": [-1.0, -1.0, null, -1.0, -1.0, null, -1.0, -1.0, null, 0.0, 0.0, null, 0.0, 0.0, null, 0.0, 0.0, null, 1.0, 1.0, null, 1.0, 1.0, null, 1.0, 1.0, null]}, {\"legendgroup\": \"Col Base X\", \"line\": {\"color\": \"limegreen\", \"width\": 2}, \"mode\": \"lines\", \"name\": \"Col Base Z\", \"opacity\": 0.9, \"showlegend\": true, \"type\": \"scatter3d\", \"x\": [-3.0, -3.0, null, -1.0, -1.0, null, 1.0, 1.0, null, -2.0, -2.0, null, 0.0, 0.0, null, 2.0, 2.0, null, -1.0, -1.0, null, 1.0, 1.0, null, 3.0, 3.0, null], \"y\": [-1.0, -1.0, null, -1.0, -1.0, null, -1.0, -1.0, null, 0.0, 0.0, null, 0.0, 0.0, null, 0.0, 0.0, null, 1.0, 1.0, null, 1.0, 1.0, null, 1.0, 1.0, null], \"z\": [-1.3, 1.3, null, -1.3, 1.3, null, -1.3, 1.3, null, -1.3, 1.3, null, -1.3, 1.3, null, -1.3, 1.3, null, -1.3, 1.3, null, -1.3, 1.3, null, -1.3, 1.3, null]}, {\"legendgroup\": \"Unit Base X\", \"line\": {\"color\": \"grey\", \"width\": 4}, \"mode\": \"lines\", \"name\": \"Unit Base X\", \"opacity\": 0.6, \"showlegend\": true, \"type\": \"scatter3d\", \"x\": [-1.3, 1.3, null, -1.3, 1.3, null, -1.3, 1.3, null, -1.3, 1.3, null, -1.3, 1.3, null, -1.3, 1.3, null, -1.3, 1.3, null, -1.3, 1.3, null, -1.3, 1.3, null], \"y\": [-1.0, -1.0, null, 0.0, 0.0, null, 1.0, 1.0, null, -1.0, -1.0, null, 0.0, 0.0, null, 1.0, 1.0, null, -1.0, -1.0, null, 0.0, 0.0, null, 1.0, 1.0, null], \"z\": [-1.0, -1.0, null, -1.0, -1.0, null, -1.0, -1.0, null, 0.0, 0.0, null, 0.0, 0.0, null, 0.0, 0.0, null, 1.0, 1.0, null, 1.0, 1.0, null, 1.0, 1.0, null]}, {\"legendgroup\": \"Unit Base X\", \"line\": {\"color\": \"grey\", \"width\": 4}, \"mode\": \"lines\", \"name\": \"Unit Base Y\", \"opacity\": 0.6, \"showlegend\": true, \"type\": \"scatter3d\", \"x\": [-1.0, -1.0, null, 0.0, 0.0, null, 1.0, 1.0, null, -1.0, -1.0, null, 0.0, 0.0, null, 1.0, 1.0, null, -1.0, -1.0, null, 0.0, 0.0, null, 1.0, 1.0, null], \"y\": [-1.3, 1.3, null, -1.3, 1.3, null, -1.3, 1.3, null, -1.3, 1.3, null, -1.3, 1.3, null, -1.3, 1.3, null, -1.3, 1.3, null, -1.3, 1.3, null, -1.3, 1.3, null], \"z\": [-1.0, -1.0, null, -1.0, -1.0, null, -1.0, -1.0, null, 0.0, 0.0, null, 0.0, 0.0, null, 0.0, 0.0, null, 1.0, 1.0, null, 1.0, 1.0, null, 1.0, 1.0, null]}, {\"legendgroup\": \"Unit Base X\", \"line\": {\"color\": \"grey\", \"width\": 4}, \"mode\": \"lines\", \"name\": \"Unit Base Z\", \"opacity\": 0.6, \"showlegend\": true, \"type\": \"scatter3d\", \"x\": [-1.0, -1.0, null, 0.0, 0.0, null, 1.0, 1.0, null, -1.0, -1.0, null, 0.0, 0.0, null, 1.0, 1.0, null, -1.0, -1.0, null, 0.0, 0.0, null, 1.0, 1.0, null], \"y\": [-1.0, -1.0, null, -1.0, -1.0, null, -1.0, -1.0, null, 0.0, 0.0, null, 0.0, 0.0, null, 0.0, 0.0, null, 1.0, 1.0, null, 1.0, 1.0, null, 1.0, 1.0, null], \"z\": [-1.3, 1.3, null, -1.3, 1.3, null, -1.3, 1.3, null, -1.3, 1.3, null, -1.3, 1.3, null, -1.3, 1.3, null, -1.3, 1.3, null, -1.3, 1.3, null, -1.3, 1.3, null]}, {\"color\": \"#ecfc03\", \"i\": [7, 0, 0, 0, 4, 4, 6, 6, 4, 0, 3, 2], \"j\": [3, 4, 1, 2, 5, 6, 5, 2, 0, 1, 6, 3], \"k\": [0, 7, 2, 3, 6, 7, 1, 1, 5, 5, 7, 6], \"legendgroup\": \"Col Det\", \"name\": \"Col Det\", \"opacity\": 0.1, \"showlegend\": true, \"type\": \"mesh3d\", \"x\": [0, 1, 3, 2, 0, 1, 3, 2], \"y\": [0, 1, 1, 0, 0, 1, 1, 0], \"z\": [0, 0, 0, 0, 1, 1, 1, 1]}, {\"legendgroup\": \"Col Det\", \"line\": {\"width\": 2}, \"marker\": {\"color\": \"#ecfc03\", \"size\": 4}, \"mode\": \"markers+text+lines\", \"name\": \"Col Det\", \"showlegend\": true, \"text\": [\"1\", \"2\", \"3\", \"4\", \"5\", \"6\", \"7\", \"8\"], \"textposition\": \"bottom center\", \"type\": \"scatter3d\", \"x\": [0, 1, 3, 2, 2, 3, 1, 0, 0, 1, 1, 3, 3, 2, 0, 0, 2], \"y\": [0, 1, 1, 0, 0, 1, 1, 0, 0, 1, 1, 1, 1, 0, 0, 0, 0], \"z\": [0, 0, 0, 0, 1, 1, 1, 1, 0, 0, 1, 1, 0, 0, 0, 1, 1]}, {\"line\": {\"color\": [\"#e4ff94\", \"#e4ff94\", \"white\", \"#ffa8f1\", \"#ffa8f1\", \"white\", \"#a8d5ff\", \"#a8d5ff\"], \"width\": 10}, \"mode\": \"lines\", \"name\": \"Row Vector\", \"showlegend\": true, \"type\": \"scatter3d\", \"x\": [2.0, 0.0, null, 0, 0, null, 0, 0, null], \"y\": [1.0, 0.0, null, 1, 0, null, 0, 0, null], \"z\": [0.0, 0.0, null, 0, 0, null, 1, 0, null]}, {\"color\": \"green\", \"i\": [7, 0, 0, 0, 4, 4, 6, 6, 4, 0, 3, 2], \"j\": [3, 4, 1, 2, 5, 6, 5, 2, 0, 1, 6, 3], \"k\": [0, 7, 2, 3, 6, 7, 1, 1, 5, 5, 7, 6], \"legendgroup\": \"Row Det\", \"name\": \"Row Det\", \"opacity\": 0.1, \"showlegend\": true, \"type\": \"mesh3d\", \"x\": [0, 0, 2, 2, 0, 0, 2, 2], \"y\": [0, 1, 2, 1, 0, 1, 2, 1], \"z\": [0, 0, 0, 0, 1, 1, 1, 1]}, {\"legendgroup\": \"Row Det\", \"line\": {\"width\": 2}, \"marker\": {\"color\": \"green\", \"size\": 4}, \"mode\": \"markers+text+lines\", \"name\": \"Row Det\", \"showlegend\": true, \"text\": [\"1\", \"2\", \"3\", \"4\", \"5\", \"6\", \"7\", \"8\"], \"textposition\": \"bottom center\", \"type\": \"scatter3d\", \"x\": [0, 0, 2, 2, 2, 2, 0, 0, 0, 0, 0, 2, 2, 2, 0, 0, 2], \"y\": [0, 1, 2, 1, 1, 2, 1, 0, 0, 1, 1, 2, 2, 1, 0, 0, 1], \"z\": [0, 0, 0, 0, 1, 1, 1, 1, 0, 0, 1, 1, 0, 0, 0, 1, 1]}, {\"marker\": {\"color\": \"greenyellow\"}, \"mode\": \"markers\", \"name\": \"Before Projectoin Added Along NullSpace\", \"showlegend\": true, \"type\": \"scatter3d\", \"x\": [], \"y\": [], \"z\": []}, {\"marker\": {\"color\": \"deepskyblue\"}, \"mode\": \"markers\", \"name\": \"Before Projectoin Main\", \"showlegend\": true, \"type\": \"scatter3d\", \"x\": [], \"y\": [], \"z\": []}, {\"marker\": {\"color\": \"mediumvioletred\"}, \"mode\": \"markers\", \"showlegend\": false, \"type\": \"scatter3d\", \"x\": [], \"y\": [], \"z\": []}, {\"legendgroup\": \"group2\", \"line\": {\"color\": \"lightskyblue\", \"width\": 9}, \"mode\": \"lines\", \"name\": \"Null Base\", \"opacity\": 0.6, \"showlegend\": true, \"type\": \"scatter3d\", \"x\": [], \"y\": [], \"z\": []}, {\"line\": {\"color\": \"gray\", \"width\": 3}, \"mode\": \"lines\", \"name\": \"Landing connection Trace\", \"opacity\": 0.9, \"showlegend\": true, \"type\": \"scatter3d\", \"x\": [], \"y\": [], \"z\": []}, {\"line\": {\"color\": \"red\", \"width\": 2}, \"mode\": \"lines\", \"name\": \"Landing connection\", \"opacity\": 0.9, \"showlegend\": true, \"type\": \"scatter3d\", \"x\": [], \"y\": [], \"z\": []}, {\"line\": {\"color\": [\"#e4ff94\", \"#e4ff94\", \"white\", \"#ffa8f1\", \"#ffa8f1\", \"white\", \"#a8d5ff\", \"#a8d5ff\"], \"width\": 10}, \"mode\": \"lines+text\", \"name\": \"EigenVectors\", \"showlegend\": true, \"text\": [2.0, null, null, 1.0, null, null, 1.0, null, null], \"type\": \"scatter3d\", \"x\": [1.0, 0.0, null, -0.7071067811865475, 0, null, 0.0, 0, null], \"y\": [0.0, 0.0, null, 0.7071067811865475, 0, null, 0.0, 0, null], \"z\": [0.0, 0.0, null, 0.0, 0, null, 1.0, 0, null]}, {\"color\": \"deepskyblue\", \"i\": [7, 0, 0, 0, 4, 4, 6, 6, 4, 0, 3, 2], \"j\": [3, 4, 1, 2, 5, 6, 5, 2, 0, 1, 6, 3], \"k\": [0, 7, 2, 3, 6, 7, 1, 1, 5, 5, 7, 6], \"legendgroup\": \"eigen Determent\", \"name\": \"eigen Determent\", \"opacity\": 0.1, \"showlegend\": true, \"type\": \"mesh3d\", \"x\": [0, -0.7071067811865475, 0.29289321881345254, 1.0, 0.0, -0.7071067811865475, 0.29289321881345254, 1.0], \"y\": [0, 0.7071067811865475, 0.7071067811865475, 0.0, 0.0, 0.7071067811865475, 0.7071067811865475, 0.0], \"z\": [0, 0.0, 0.0, 0.0, 1.0, 1.0, 1.0, 1.0]}, {\"legendgroup\": \"eigen Determent\", \"line\": {\"width\": 2}, \"marker\": {\"color\": \"deepskyblue\", \"size\": 4}, \"mode\": \"markers+text+lines\", \"name\": \"eigen Determent\", \"showlegend\": true, \"text\": [\"1\", \"2\", \"3\", \"4\", \"5\", \"6\", \"7\", \"8\"], \"textposition\": \"bottom center\", \"type\": \"scatter3d\", \"x\": [0, -0.7071067811865475, 0.29289321881345254, 1.0, 1.0, 0.29289321881345254, -0.7071067811865475, 0.0, 0, -0.7071067811865475, -0.7071067811865475, 0.29289321881345254, 0.29289321881345254, 1.0, 0, 0.0, 1.0], \"y\": [0, 0.7071067811865475, 0.7071067811865475, 0.0, 0.0, 0.7071067811865475, 0.7071067811865475, 0.0, 0, 0.7071067811865475, 0.7071067811865475, 0.7071067811865475, 0.7071067811865475, 0.0, 0, 0.0, 0.0], \"z\": [0, 0.0, 0.0, 0.0, 1.0, 1.0, 1.0, 1.0, 0, 0.0, 1.0, 1.0, 0.0, 0.0, 0, 1.0, 1.0]}, {\"line\": {\"color\": [\"#e4ff94\", \"#e4ff94\", \"white\", \"#ffa8f1\", \"#ffa8f1\", \"white\", \"#a8d5ff\", \"#a8d5ff\"], \"width\": 10}, \"mode\": \"lines\", \"name\": \"TTeigenTT Vector\", \"showlegend\": true, \"type\": \"scatter3d\", \"x\": [1.0, 0.0, null, 0.0, 0, null, 0.0, 0, null], \"y\": [-0.7071067811865475, 0.0, null, 0.7071067811865475, 0, null, 0.0, 0, null], \"z\": [0.0, 0.0, null, 0.0, 0, null, 1.0, 0, null]}, {\"color\": \"purple\", \"i\": [7, 0, 0, 0, 4, 4, 6, 6, 4, 0, 3, 2], \"j\": [3, 4, 1, 2, 5, 6, 5, 2, 0, 1, 6, 3], \"k\": [0, 7, 2, 3, 6, 7, 1, 1, 5, 5, 7, 6], \"legendgroup\": \"TTeigenTT Determent\", \"name\": \"TTeigenTT Determent\", \"opacity\": 0.1, \"showlegend\": true, \"type\": \"mesh3d\", \"x\": [0, 0.0, 1.0, 1.0, 0.0, 0.0, 1.0, 1.0], \"y\": [0, 0.7071067811865475, 0.0, -0.7071067811865475, 0.0, 0.7071067811865475, 0.0, -0.7071067811865475], \"z\": [0, 0.0, 0.0, 0.0, 1.0, 1.0, 1.0, 1.0]}, {\"legendgroup\": \"TTeigenTT Determent\", \"line\": {\"width\": 2}, \"marker\": {\"color\": \"purple\", \"size\": 4}, \"mode\": \"markers+text+lines\", \"name\": \"TTeigenTT Determent\", \"showlegend\": true, \"text\": [\"1\", \"2\", \"3\", \"4\", \"5\", \"6\", \"7\", \"8\"], \"textposition\": \"bottom center\", \"type\": \"scatter3d\", \"x\": [0, 0.0, 1.0, 1.0, 1.0, 1.0, 0.0, 0.0, 0, 0.0, 0.0, 1.0, 1.0, 1.0, 0, 0.0, 1.0], \"y\": [0, 0.7071067811865475, 0.0, -0.7071067811865475, -0.7071067811865475, 0.0, 0.7071067811865475, 0.0, 0, 0.7071067811865475, 0.7071067811865475, 0.0, 0.0, -0.7071067811865475, 0, 0.0, -0.7071067811865475], \"z\": [0, 0.0, 0.0, 0.0, 1.0, 1.0, 1.0, 1.0, 0, 0.0, 1.0, 1.0, 0.0, 0.0, 0, 1.0, 1.0]}, {\"line\": {\"color\": [\"#e4ff94\", \"#e4ff94\", \"white\", \"#ffa8f1\", \"#ffa8f1\", \"white\", \"#a8d5ff\", \"#a8d5ff\"], \"width\": 10}, \"mode\": \"lines\", \"name\": \"col inv Vec\", \"showlegend\": true, \"type\": \"scatter3d\", \"x\": [0.5, 0.0, null, -0.5, 0, null, 0.0, 0, null], \"y\": [0.0, 0.0, null, 1.0, 0, null, 0.0, 0, null], \"z\": [0.0, 0.0, null, 0.0, 0, null, 1.0, 0, null]}, {\"color\": \"red\", \"i\": [7, 0, 0, 0, 4, 4, 6, 6, 4, 0, 3, 2], \"j\": [3, 4, 1, 2, 5, 6, 5, 2, 0, 1, 6, 3], \"k\": [0, 7, 2, 3, 6, 7, 1, 1, 5, 5, 7, 6], \"legendgroup\": \"Col inv Det\", \"name\": \"Col inv Det\", \"opacity\": 0.1, \"showlegend\": true, \"type\": \"mesh3d\", \"x\": [0, -0.5, 0.0, 0.5, 0.0, -0.5, 0.0, 0.5], \"y\": [0, 1.0, 1.0, 0.0, 0.0, 1.0, 1.0, 0.0], \"z\": [0, 0.0, 0.0, 0.0, 1.0, 1.0, 1.0, 1.0]}, {\"legendgroup\": \"Col inv Det\", \"line\": {\"width\": 2}, \"marker\": {\"color\": \"red\", \"size\": 4}, \"mode\": \"markers+text+lines\", \"name\": \"Col inv Det\", \"showlegend\": true, \"text\": [\"1\", \"2\", \"3\", \"4\", \"5\", \"6\", \"7\", \"8\"], \"textposition\": \"bottom center\", \"type\": \"scatter3d\", \"x\": [0, -0.5, 0.0, 0.5, 0.5, 0.0, -0.5, 0.0, 0, -0.5, -0.5, 0.0, 0.0, 0.5, 0, 0.0, 0.5], \"y\": [0, 1.0, 1.0, 0.0, 0.0, 1.0, 1.0, 0.0, 0, 1.0, 1.0, 1.0, 1.0, 0.0, 0, 0.0, 0.0], \"z\": [0, 0.0, 0.0, 0.0, 1.0, 1.0, 1.0, 1.0, 0, 0.0, 1.0, 1.0, 0.0, 0.0, 0, 1.0, 1.0]}, {\"line\": {\"color\": [\"#e4ff94\", \"#e4ff94\", \"white\", \"#ffa8f1\", \"#ffa8f1\", \"white\", \"#a8d5ff\", \"#a8d5ff\"], \"width\": 10}, \"mode\": \"lines\", \"name\": \"Row Inv Vector\", \"showlegend\": true, \"type\": \"scatter3d\", \"x\": [0.5, 0.0, null, 0.0, 0, null, 0.0, 0, null], \"y\": [-0.5, 0.0, null, 1.0, 0, null, 0.0, 0, null], \"z\": [0.0, 0.0, null, 0.0, 0, null, 1.0, 0, null]}, {\"color\": \"pink\", \"i\": [7, 0, 0, 0, 4, 4, 6, 6, 4, 0, 3, 2], \"j\": [3, 4, 1, 2, 5, 6, 5, 2, 0, 1, 6, 3], \"k\": [0, 7, 2, 3, 6, 7, 1, 1, 5, 5, 7, 6], \"legendgroup\": \"Row inv Det\", \"name\": \"Row inv Det\", \"opacity\": 0.1, \"showlegend\": true, \"type\": \"mesh3d\", \"x\": [0, 0.0, 0.5, 0.5, 0.0, 0.0, 0.5, 0.5], \"y\": [0, 1.0, 0.5, -0.5, 0.0, 1.0, 0.5, -0.5], \"z\": [0, 0.0, 0.0, 0.0, 1.0, 1.0, 1.0, 1.0]}, {\"legendgroup\": \"Row inv Det\", \"line\": {\"width\": 2}, \"marker\": {\"color\": \"pink\", \"size\": 4}, \"mode\": \"markers+text+lines\", \"name\": \"Row inv Det\", \"showlegend\": true, \"text\": [\"1\", \"2\", \"3\", \"4\", \"5\", \"6\", \"7\", \"8\"], \"textposition\": \"bottom center\", \"type\": \"scatter3d\", \"x\": [0, 0.0, 0.5, 0.5, 0.5, 0.5, 0.0, 0.0, 0, 0.0, 0.0, 0.5, 0.5, 0.5, 0, 0.0, 0.5], \"y\": [0, 1.0, 0.5, -0.5, -0.5, 0.5, 1.0, 0.0, 0, 1.0, 1.0, 0.5, 0.5, -0.5, 0, 0.0, -0.5], \"z\": [0, 0.0, 0.0, 0.0, 1.0, 1.0, 1.0, 1.0, 0, 0.0, 1.0, 1.0, 0.0, 0.0, 0, 1.0, 1.0]}],                        {\"template\": {\"data\": {\"bar\": [{\"error_x\": {\"color\": \"#f2f5fa\"}, \"error_y\": {\"color\": \"#f2f5fa\"}, \"marker\": {\"line\": {\"color\": \"rgb(17,17,17)\", \"width\": 0.5}}, \"type\": \"bar\"}], \"barpolar\": [{\"marker\": {\"line\": {\"color\": \"rgb(17,17,17)\", \"width\": 0.5}}, \"type\": \"barpolar\"}], \"carpet\": [{\"aaxis\": {\"endlinecolor\": \"#A2B1C6\", \"gridcolor\": \"#506784\", \"linecolor\": \"#506784\", \"minorgridcolor\": \"#506784\", \"startlinecolor\": \"#A2B1C6\"}, \"baxis\": {\"endlinecolor\": \"#A2B1C6\", \"gridcolor\": \"#506784\", \"linecolor\": \"#506784\", \"minorgridcolor\": \"#506784\", \"startlinecolor\": \"#A2B1C6\"}, \"type\": \"carpet\"}], \"choropleth\": [{\"colorbar\": {\"outlinewidth\": 0, \"ticks\": \"\"}, \"type\": \"choropleth\"}], \"contour\": [{\"colorbar\": {\"outlinewidth\": 0, \"ticks\": \"\"}, \"colorscale\": [[0.0, \"#0d0887\"], [0.1111111111111111, \"#46039f\"], [0.2222222222222222, \"#7201a8\"], [0.3333333333333333, \"#9c179e\"], [0.4444444444444444, \"#bd3786\"], [0.5555555555555556, \"#d8576b\"], [0.6666666666666666, \"#ed7953\"], [0.7777777777777778, \"#fb9f3a\"], [0.8888888888888888, \"#fdca26\"], [1.0, \"#f0f921\"]], \"type\": \"contour\"}], \"contourcarpet\": [{\"colorbar\": {\"outlinewidth\": 0, \"ticks\": \"\"}, \"type\": \"contourcarpet\"}], \"heatmap\": [{\"colorbar\": {\"outlinewidth\": 0, \"ticks\": \"\"}, \"colorscale\": [[0.0, \"#0d0887\"], [0.1111111111111111, \"#46039f\"], [0.2222222222222222, \"#7201a8\"], [0.3333333333333333, \"#9c179e\"], [0.4444444444444444, \"#bd3786\"], [0.5555555555555556, \"#d8576b\"], [0.6666666666666666, \"#ed7953\"], [0.7777777777777778, \"#fb9f3a\"], [0.8888888888888888, \"#fdca26\"], [1.0, \"#f0f921\"]], \"type\": \"heatmap\"}], \"heatmapgl\": [{\"colorbar\": {\"outlinewidth\": 0, \"ticks\": \"\"}, \"colorscale\": [[0.0, \"#0d0887\"], [0.1111111111111111, \"#46039f\"], [0.2222222222222222, \"#7201a8\"], [0.3333333333333333, \"#9c179e\"], [0.4444444444444444, \"#bd3786\"], [0.5555555555555556, \"#d8576b\"], [0.6666666666666666, \"#ed7953\"], [0.7777777777777778, \"#fb9f3a\"], [0.8888888888888888, \"#fdca26\"], [1.0, \"#f0f921\"]], \"type\": \"heatmapgl\"}], \"histogram\": [{\"marker\": {\"colorbar\": {\"outlinewidth\": 0, \"ticks\": \"\"}}, \"type\": \"histogram\"}], \"histogram2d\": [{\"colorbar\": {\"outlinewidth\": 0, \"ticks\": \"\"}, \"colorscale\": [[0.0, \"#0d0887\"], [0.1111111111111111, \"#46039f\"], [0.2222222222222222, \"#7201a8\"], [0.3333333333333333, \"#9c179e\"], [0.4444444444444444, \"#bd3786\"], [0.5555555555555556, \"#d8576b\"], [0.6666666666666666, \"#ed7953\"], [0.7777777777777778, \"#fb9f3a\"], [0.8888888888888888, \"#fdca26\"], [1.0, \"#f0f921\"]], \"type\": \"histogram2d\"}], \"histogram2dcontour\": [{\"colorbar\": {\"outlinewidth\": 0, \"ticks\": \"\"}, \"colorscale\": [[0.0, \"#0d0887\"], [0.1111111111111111, \"#46039f\"], [0.2222222222222222, \"#7201a8\"], [0.3333333333333333, \"#9c179e\"], [0.4444444444444444, \"#bd3786\"], [0.5555555555555556, \"#d8576b\"], [0.6666666666666666, \"#ed7953\"], [0.7777777777777778, \"#fb9f3a\"], [0.8888888888888888, \"#fdca26\"], [1.0, \"#f0f921\"]], \"type\": \"histogram2dcontour\"}], \"mesh3d\": [{\"colorbar\": {\"outlinewidth\": 0, \"ticks\": \"\"}, \"type\": \"mesh3d\"}], \"parcoords\": [{\"line\": {\"colorbar\": {\"outlinewidth\": 0, \"ticks\": \"\"}}, \"type\": \"parcoords\"}], \"pie\": [{\"automargin\": true, \"type\": \"pie\"}], \"scatter\": [{\"marker\": {\"line\": {\"color\": \"#283442\"}}, \"type\": \"scatter\"}], \"scatter3d\": [{\"line\": {\"colorbar\": {\"outlinewidth\": 0, \"ticks\": \"\"}}, \"marker\": {\"colorbar\": {\"outlinewidth\": 0, \"ticks\": \"\"}}, \"type\": \"scatter3d\"}], \"scattercarpet\": [{\"marker\": {\"colorbar\": {\"outlinewidth\": 0, \"ticks\": \"\"}}, \"type\": \"scattercarpet\"}], \"scattergeo\": [{\"marker\": {\"colorbar\": {\"outlinewidth\": 0, \"ticks\": \"\"}}, \"type\": \"scattergeo\"}], \"scattergl\": [{\"marker\": {\"line\": {\"color\": \"#283442\"}}, \"type\": \"scattergl\"}], \"scattermapbox\": [{\"marker\": {\"colorbar\": {\"outlinewidth\": 0, \"ticks\": \"\"}}, \"type\": \"scattermapbox\"}], \"scatterpolar\": [{\"marker\": {\"colorbar\": {\"outlinewidth\": 0, \"ticks\": \"\"}}, \"type\": \"scatterpolar\"}], \"scatterpolargl\": [{\"marker\": {\"colorbar\": {\"outlinewidth\": 0, \"ticks\": \"\"}}, \"type\": \"scatterpolargl\"}], \"scatterternary\": [{\"marker\": {\"colorbar\": {\"outlinewidth\": 0, \"ticks\": \"\"}}, \"type\": \"scatterternary\"}], \"surface\": [{\"colorbar\": {\"outlinewidth\": 0, \"ticks\": \"\"}, \"colorscale\": [[0.0, \"#0d0887\"], [0.1111111111111111, \"#46039f\"], [0.2222222222222222, \"#7201a8\"], [0.3333333333333333, \"#9c179e\"], [0.4444444444444444, \"#bd3786\"], [0.5555555555555556, \"#d8576b\"], [0.6666666666666666, \"#ed7953\"], [0.7777777777777778, \"#fb9f3a\"], [0.8888888888888888, \"#fdca26\"], [1.0, \"#f0f921\"]], \"type\": \"surface\"}], \"table\": [{\"cells\": {\"fill\": {\"color\": \"#506784\"}, \"line\": {\"color\": \"rgb(17,17,17)\"}}, \"header\": {\"fill\": {\"color\": \"#2a3f5f\"}, \"line\": {\"color\": \"rgb(17,17,17)\"}}, \"type\": \"table\"}]}, \"layout\": {\"annotationdefaults\": {\"arrowcolor\": \"#f2f5fa\", \"arrowhead\": 0, \"arrowwidth\": 1}, \"autotypenumbers\": \"strict\", \"coloraxis\": {\"colorbar\": {\"outlinewidth\": 0, \"ticks\": \"\"}}, \"colorscale\": {\"diverging\": [[0, \"#8e0152\"], [0.1, \"#c51b7d\"], [0.2, \"#de77ae\"], [0.3, \"#f1b6da\"], [0.4, \"#fde0ef\"], [0.5, \"#f7f7f7\"], [0.6, \"#e6f5d0\"], [0.7, \"#b8e186\"], [0.8, \"#7fbc41\"], [0.9, \"#4d9221\"], [1, \"#276419\"]], \"sequential\": [[0.0, \"#0d0887\"], [0.1111111111111111, \"#46039f\"], [0.2222222222222222, \"#7201a8\"], [0.3333333333333333, \"#9c179e\"], [0.4444444444444444, \"#bd3786\"], [0.5555555555555556, \"#d8576b\"], [0.6666666666666666, \"#ed7953\"], [0.7777777777777778, \"#fb9f3a\"], [0.8888888888888888, \"#fdca26\"], [1.0, \"#f0f921\"]], \"sequentialminus\": [[0.0, \"#0d0887\"], [0.1111111111111111, \"#46039f\"], [0.2222222222222222, \"#7201a8\"], [0.3333333333333333, \"#9c179e\"], [0.4444444444444444, \"#bd3786\"], [0.5555555555555556, \"#d8576b\"], [0.6666666666666666, \"#ed7953\"], [0.7777777777777778, \"#fb9f3a\"], [0.8888888888888888, \"#fdca26\"], [1.0, \"#f0f921\"]]}, \"colorway\": [\"#636efa\", \"#EF553B\", \"#00cc96\", \"#ab63fa\", \"#FFA15A\", \"#19d3f3\", \"#FF6692\", \"#B6E880\", \"#FF97FF\", \"#FECB52\"], \"font\": {\"color\": \"#f2f5fa\"}, \"geo\": {\"bgcolor\": \"rgb(17,17,17)\", \"lakecolor\": \"rgb(17,17,17)\", \"landcolor\": \"rgb(17,17,17)\", \"showlakes\": true, \"showland\": true, \"subunitcolor\": \"#506784\"}, \"hoverlabel\": {\"align\": \"left\"}, \"hovermode\": \"closest\", \"mapbox\": {\"style\": \"dark\"}, \"paper_bgcolor\": \"rgb(17,17,17)\", \"plot_bgcolor\": \"rgb(17,17,17)\", \"polar\": {\"angularaxis\": {\"gridcolor\": \"#506784\", \"linecolor\": \"#506784\", \"ticks\": \"\"}, \"bgcolor\": \"rgb(17,17,17)\", \"radialaxis\": {\"gridcolor\": \"#506784\", \"linecolor\": \"#506784\", \"ticks\": \"\"}}, \"scene\": {\"xaxis\": {\"backgroundcolor\": \"rgb(17,17,17)\", \"gridcolor\": \"#506784\", \"gridwidth\": 2, \"linecolor\": \"#506784\", \"showbackground\": true, \"ticks\": \"\", \"zerolinecolor\": \"#C8D4E3\"}, \"yaxis\": {\"backgroundcolor\": \"rgb(17,17,17)\", \"gridcolor\": \"#506784\", \"gridwidth\": 2, \"linecolor\": \"#506784\", \"showbackground\": true, \"ticks\": \"\", \"zerolinecolor\": \"#C8D4E3\"}, \"zaxis\": {\"backgroundcolor\": \"rgb(17,17,17)\", \"gridcolor\": \"#506784\", \"gridwidth\": 2, \"linecolor\": \"#506784\", \"showbackground\": true, \"ticks\": \"\", \"zerolinecolor\": \"#C8D4E3\"}}, \"shapedefaults\": {\"line\": {\"color\": \"#f2f5fa\"}}, \"sliderdefaults\": {\"bgcolor\": \"#C8D4E3\", \"bordercolor\": \"rgb(17,17,17)\", \"borderwidth\": 1, \"tickwidth\": 0}, \"ternary\": {\"aaxis\": {\"gridcolor\": \"#506784\", \"linecolor\": \"#506784\", \"ticks\": \"\"}, \"baxis\": {\"gridcolor\": \"#506784\", \"linecolor\": \"#506784\", \"ticks\": \"\"}, \"bgcolor\": \"rgb(17,17,17)\", \"caxis\": {\"gridcolor\": \"#506784\", \"linecolor\": \"#506784\", \"ticks\": \"\"}}, \"title\": {\"x\": 0.05}, \"updatemenudefaults\": {\"bgcolor\": \"#506784\", \"borderwidth\": 0}, \"xaxis\": {\"automargin\": true, \"gridcolor\": \"#283442\", \"linecolor\": \"#506784\", \"ticks\": \"\", \"title\": {\"standoff\": 15}, \"zerolinecolor\": \"#283442\", \"zerolinewidth\": 2}, \"yaxis\": {\"automargin\": true, \"gridcolor\": \"#283442\", \"linecolor\": \"#506784\", \"ticks\": \"\", \"title\": {\"standoff\": 15}, \"zerolinecolor\": \"#283442\", \"zerolinewidth\": 2}}}},                        {\"responsive\": true}                    ).then(function(){\n",
       "                            \n",
       "var gd = document.getElementById('ac1b2b80-b475-4440-a0a0-3e9be580d923');\n",
       "var x = new MutationObserver(function (mutations, observer) {{\n",
       "        var display = window.getComputedStyle(gd).display;\n",
       "        if (!display || display === 'none') {{\n",
       "            console.log([gd, 'removed!']);\n",
       "            Plotly.purge(gd);\n",
       "            observer.disconnect();\n",
       "        }}\n",
       "}});\n",
       "\n",
       "// Listen for the removal of the full notebook cells\n",
       "var notebookContainer = gd.closest('#notebook-container');\n",
       "if (notebookContainer) {{\n",
       "    x.observe(notebookContainer, {childList: true});\n",
       "}}\n",
       "\n",
       "// Listen for the clearing of the current output cell\n",
       "var outputEl = gd.closest('.output');\n",
       "if (outputEl) {{\n",
       "    x.observe(outputEl, {childList: true});\n",
       "}}\n",
       "\n",
       "                        })                };                });            </script>        </div>"
      ]
     },
     "metadata": {},
     "output_type": "display_data"
    }
   ],
   "source": [
    "\n",
    "\n",
    "def generate_fig(matrix=np.array([[2,1, 0], [0,0,0], [0,0,1]])):\n",
    "\n",
    "\n",
    "    fig = go.Figure()\n",
    "    fig.update_layout(template='plotly_dark')\n",
    "    draw = nd.Draw(fig=fig)\n",
    "    draw.MainAxices()\n",
    "\n",
    "    draw.determanent(nd.determanentParallelepiped(\n",
    "        np.identity(3)), color='grey', name='unit Det')\n",
    "\n",
    "\n",
    "\n",
    "    # Creating an object from class \n",
    "    draw.Mat3grid(nd.net3d(matrix), color='limegreen',\n",
    "                    name='Col Base', opacity=0.9, width=2, showlegend=True)\n",
    "\n",
    "    # draw.Mat3grid(nd.net3d(matrix.T), color='magenta', colorY='', colorZ='', name='Row Base', opacity=.6, width=2, showlegend=True)\n",
    "\n",
    "\n",
    "    draw.Mat3grid(nd.net3d(np.identity(3)), color='grey', colorY='',\n",
    "                colorZ='', name='Unit Base', opacity=.6, width=4, showlegend=True)\n",
    "\n",
    "\n",
    "    # ##########################################################\n",
    "    draw.determanent(nd.determanentParallelepiped(matrix), name='Col Det')\n",
    "\n",
    "    # ##########################################################\n",
    "    draw.MatVector(nd.matrixvector(matrix.T), namex='Row Vector')\n",
    "    draw.determanent(nd.determanentParallelepiped(\n",
    "        matrix.T), color='green', name='Row Det')\n",
    "\n",
    "    # ##########################################################\n",
    "\n",
    "    ns = nd.nullSpace(matrix, strt=-6, stp=6, num=2)\n",
    "    draw.Nullspace(**ns)\n",
    "\n",
    "    # ##########################################################\n",
    "\n",
    "    val, mat, w, v = nd.eigenvector(matrix)\n",
    "    print(v)\n",
    "    draw.EigVector((val, mat))\n",
    "    draw.determanent(nd.determanentParallelepiped(v), name='eigen Determent',color='deepskyblue')\n",
    "\n",
    "    mem = v.T\n",
    "    draw.MatVector(nd.matrixvector(mem), namex='TTeigenTT Vector')\n",
    "    draw.determanent(nd.determanentParallelepiped(\n",
    "        mem), name='TTeigenTT Determent', color='purple')\n",
    "\n",
    "    # ##########################################################\n",
    "    # ###################    Inverses    #######################\n",
    "    # ##########################################################\n",
    "    c, r = matrix.shape\n",
    "    # checking if the matrix is invertible\n",
    "    if np.linalg.matrix_rank(matrix) == c and c == r:\n",
    "        inverse = np.linalg.inv(matrix)\n",
    "        draw.MatVector(nd.matrixvector(inverse), namex='col inv Vec')\n",
    "        draw.determanent(nd.determanentParallelepiped(\n",
    "            inverse), color='red', name='Col inv Det')\n",
    "\n",
    "        #    ##########################################################\n",
    "\n",
    "        inverseRow = np.linalg.inv(matrix.T)\n",
    "        draw.MatVector(nd.matrixvector(inverseRow), namex='Row Inv Vector')\n",
    "        draw.determanent(nd.determanentParallelepiped(\n",
    "            inverseRow), color='pink', name='Row inv Det')\n",
    "\n",
    "\n",
    "    vtest = np.array([[-0.4472136],[ 0.8944272],[0]])\n",
    "\n",
    "    print(matrix.dot(vtest))\n",
    "    print(matrix.dot(2*vtest))\n",
    "    return fig\n",
    "\n",
    "\n",
    "mat = np.array([[2,1, 0], [0,1,0], [0,0,1]])\n",
    "fig = generate_fig(mat)\n",
    "fig.show()"
   ]
  },
  {
   "cell_type": "markdown",
   "metadata": {},
   "source": [
    "# Let us try different matrices"
   ]
  },
  {
   "cell_type": "markdown",
   "metadata": {},
   "source": [
    "# Let us stretch the space"
   ]
  },
  {
   "cell_type": "code",
   "execution_count": null,
   "metadata": {},
   "outputs": [],
   "source": [
    "mat = np.array([[2,-1, 0], [-1,2,0], [0,0,0]])\n",
    "fig = generate_fig(mat)\n",
    "fig.show()"
   ]
  },
  {
   "cell_type": "markdown",
   "metadata": {},
   "source": [
    "# Let us sheer the space"
   ]
  },
  {
   "cell_type": "code",
   "execution_count": null,
   "metadata": {},
   "outputs": [],
   "source": [
    "sqr = np.sqrt(2)\n",
    "mat = np.array([[  1  ,  1  , 0  ], [  2   ,  1  ,0], [0,0,2]])\n",
    "fig = generate_fig(mat)\n",
    "fig.show()"
   ]
  },
  {
   "cell_type": "code",
   "execution_count": null,
   "metadata": {},
   "outputs": [],
   "source": [
    "sqr = np.sqrt(2)\n",
    "mat = np.array([[  1  ,  2  , 1  ], [  1   ,  2   ,1], [0,0,0]])\n",
    "fig = generate_fig(mat)\n",
    "fig.show()"
   ]
  },
  {
   "cell_type": "code",
   "execution_count": null,
   "metadata": {},
   "outputs": [],
   "source": []
  },
  {
   "cell_type": "code",
   "execution_count": null,
   "metadata": {},
   "outputs": [],
   "source": []
  },
  {
   "cell_type": "code",
   "execution_count": null,
   "metadata": {},
   "outputs": [],
   "source": [
    "\n"
   ]
  },
  {
   "cell_type": "code",
   "execution_count": null,
   "metadata": {},
   "outputs": [],
   "source": []
  },
  {
   "cell_type": "code",
   "execution_count": null,
   "metadata": {},
   "outputs": [],
   "source": []
  },
  {
   "cell_type": "code",
   "execution_count": null,
   "metadata": {},
   "outputs": [],
   "source": []
  }
 ],
 "metadata": {
  "kernelspec": {
   "display_name": "Python 3",
   "language": "python",
   "name": "python3"
  },
  "language_info": {
   "codemirror_mode": {
    "name": "ipython",
    "version": 3
   },
   "file_extension": ".py",
   "mimetype": "text/x-python",
   "name": "python",
   "nbconvert_exporter": "python",
   "pygments_lexer": "ipython3",
   "version": "3.9.5"
  }
 },
 "nbformat": 4,
 "nbformat_minor": 4
}
